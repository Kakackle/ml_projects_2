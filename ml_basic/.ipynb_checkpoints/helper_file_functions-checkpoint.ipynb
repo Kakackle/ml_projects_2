{
 "cells": [
  {
   "cell_type": "code",
   "execution_count": 17,
   "id": "a6bf8a2d-09b5-43a4-aba4-a29e31c61330",
   "metadata": {},
   "outputs": [],
   "source": [
    "from tqdm.notebook import tqdm\n",
    "import os\n",
    "import random\n",
    "import shutil"
   ]
  },
  {
   "cell_type": "markdown",
   "id": "88fa495e-e9b7-4a03-9854-0e43d936bcfb",
   "metadata": {},
   "source": [
    "### Get labels from folder names"
   ]
  },
  {
   "cell_type": "code",
   "execution_count": 12,
   "id": "76fcf54c-1059-49c9-b7ef-ab96c6074581",
   "metadata": {},
   "outputs": [],
   "source": [
    "def get_labels(folder_path):\n",
    "    labels = set()\n",
    "    # for root, dirs, files in os.walk(folder_path):\n",
    "    #     labels.add(dirs)\n",
    "    labels = os.listdir(folder_path)\n",
    "    return list(labels)"
   ]
  },
  {
   "cell_type": "code",
   "execution_count": 15,
   "id": "b5cb4576-60a4-4cb8-bfc0-eb614cba3e01",
   "metadata": {},
   "outputs": [],
   "source": [
    "labels = get_labels('./big_datasets/animals10/images')"
   ]
  },
  {
   "cell_type": "code",
   "execution_count": 16,
   "id": "8fbb595c-b46b-49d0-932f-1814468cc3fc",
   "metadata": {},
   "outputs": [
    {
     "data": {
      "text/plain": [
       "['butterfly',\n",
       " 'cat',\n",
       " 'chicken',\n",
       " 'cow',\n",
       " 'dog',\n",
       " 'elephant',\n",
       " 'horse',\n",
       " 'sheep',\n",
       " 'spider',\n",
       " 'squirrel']"
      ]
     },
     "execution_count": 16,
     "metadata": {},
     "output_type": "execute_result"
    }
   ],
   "source": [
    "labels"
   ]
  },
  {
   "cell_type": "code",
   "execution_count": 23,
   "id": "bf6b7b2c-9267-44a1-be61-3561059307dd",
   "metadata": {},
   "outputs": [],
   "source": [
    "def split_files_train_test(folder_path, train_path, test_path, split_size):\n",
    "    # folder_path = './big_datasets/animals10/images'\n",
    "    # train_path = './big_datasets/animals10/train'\n",
    "    # test_path = ...\n",
    "    # split_size = 0.8\n",
    "    for label in os.listdir(folder_path):\n",
    "        label_path = folder_path + '/' + label\n",
    "        files = os.listdir(label_path)\n",
    "        random.shuffle(files)\n",
    "\n",
    "        total = len(files)\n",
    "        to_train = files[0: int(total*split_size)]\n",
    "        to_test = files[int(total*split_size):]\n",
    "\n",
    "        label_train_path = train_path + '/' + label\n",
    "        if not os.path.exists(label_train_path):\n",
    "            os.makedirs(label_train_path)\n",
    "        label_test_path = test_path + '/' + label\n",
    "        if not os.path.exists(label_test_path):\n",
    "            os.makedirs(label_test_path)\n",
    "\n",
    "        for file_name in to_train:\n",
    "            source_file_path = label_path + '/' + file_name\n",
    "            dest_train_file_path = label_train_path + '/' + file_name\n",
    "            if os.path.isfile(source_file_path):\n",
    "                shutil.copy(source_file_path, dest_train_file_path)\n",
    "\n",
    "        for file_name in to_test:\n",
    "            source_file_path = label_path + '/' + file_name\n",
    "            dest_test_file_path = label_test_path + '/' + file_name\n",
    "            if os.path.isfile(source_file_path):\n",
    "                shutil.copy(source_file_path, dest_test_file_path)"
   ]
  },
  {
   "cell_type": "code",
   "execution_count": 24,
   "id": "130b2c21-980f-4df5-b9e4-5b28fa094084",
   "metadata": {},
   "outputs": [],
   "source": [
    "split_files_train_test(folder_path = './big_datasets/animals10/images',\n",
    "                       train_path = './big_datasets/animals10/train',\n",
    "                       test_path = './big_datasets/animals10/test',\n",
    "                       split_size = 0.8)"
   ]
  },
  {
   "cell_type": "code",
   "execution_count": null,
   "id": "e1b150d5-d025-405a-a1f8-76bd22abad28",
   "metadata": {},
   "outputs": [],
   "source": []
  }
 ],
 "metadata": {
  "kernelspec": {
   "display_name": "ml_venv",
   "language": "python",
   "name": "ml_venv"
  },
  "language_info": {
   "codemirror_mode": {
    "name": "ipython",
    "version": 3
   },
   "file_extension": ".py",
   "mimetype": "text/x-python",
   "name": "python",
   "nbconvert_exporter": "python",
   "pygments_lexer": "ipython3",
   "version": "3.10.9"
  }
 },
 "nbformat": 4,
 "nbformat_minor": 5
}
