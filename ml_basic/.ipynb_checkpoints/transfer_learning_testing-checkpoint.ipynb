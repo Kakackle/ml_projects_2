{
 "cells": [
  {
   "cell_type": "markdown",
   "id": "1df9b1ba-2f07-46d4-96c6-c06b0e652fc2",
   "metadata": {},
   "source": [
    "## Quick transfer learning explorations with efficientnet and food images\n",
    "### Particularly in regards to feature extraction"
   ]
  },
  {
   "cell_type": "code",
   "execution_count": 2,
   "id": "0d2faa44-dcbe-4d35-b689-3fc19bbcfec2",
   "metadata": {},
   "outputs": [
    {
     "name": "stdout",
     "output_type": "stream",
     "text": [
      "WARNING:tensorflow:From C:\\Users\\User\\Desktop\\programowanie_web_etc\\python_projects\\ml_projects\\ml_basic\\venv\\lib\\site-packages\\keras\\src\\losses.py:2976: The name tf.losses.sparse_softmax_cross_entropy is deprecated. Please use tf.compat.v1.losses.sparse_softmax_cross_entropy instead.\n",
      "\n",
      "WARNING:tensorflow:From C:\\Users\\User\\Desktop\\programowanie_web_etc\\python_projects\\ml_projects\\ml_basic\\venv\\lib\\site-packages\\tensorflow_estimator\\python\\estimator\\util.py:74: The name tf.train.SessionRunHook is deprecated. Please use tf.estimator.SessionRunHook instead.\n",
      "\n",
      "WARNING:tensorflow:From C:\\Users\\User\\Desktop\\programowanie_web_etc\\python_projects\\ml_projects\\ml_basic\\venv\\lib\\site-packages\\tensorflow_hub\\native_module.py:92: The name tf.GraphKeys is deprecated. Please use tf.compat.v1.GraphKeys instead.\n",
      "\n",
      "WARNING:tensorflow:From C:\\Users\\User\\Desktop\\programowanie_web_etc\\python_projects\\ml_projects\\ml_basic\\venv\\lib\\site-packages\\tensorflow_hub\\saved_model_module.py:40: The name tf.saved_model.constants.LEGACY_INIT_OP_KEY is deprecated. Please use tf.compat.v1.saved_model.constants.LEGACY_INIT_OP_KEY instead.\n",
      "\n"
     ]
    }
   ],
   "source": [
    "import tensorflow as tf\n",
    "import tensorflow_hub as hub\n",
    "from tensorflow.keras import layers"
   ]
  },
  {
   "cell_type": "markdown",
   "id": "c655ed4f-fa75-4a69-8b71-f3fcc74293fb",
   "metadata": {},
   "source": [
    "#### Choosing a model\n",
    "1. go to tensorflow hub that's actually on kaggle \n",
    "eg. https://www.kaggle.com/models/tensorflow/efficientnet/frameworks/tensorFlow2/variations/b0-feature-vector/versions/1?tfhub-redirect=true\n",
    "2. go to model instance section\n",
    "3. choose your model variation\n",
    "4. get the link to the kaggle/tfhub site\n",
    "5. or download the weights in a zip\n",
    "6. "
   ]
  },
  {
   "cell_type": "code",
   "execution_count": null,
   "id": "b481edbb-3d2e-495b-b802-494fe2ab0d84",
   "metadata": {},
   "outputs": [],
   "source": [
    "https://tfhub.dev/google/imagenet/efficientnet_v2_imagenet1k_b0/feature_vector/2\n",
    "\n",
    "https://storage.googleapis.com/cloud-tpu-checkpoints/efficientnet/v2/efficientnetv2-s.tgz"
   ]
  },
  {
   "cell_type": "markdown",
   "id": "9294e0b5-91ed-4d9f-b159-b407a94b5fb1",
   "metadata": {},
   "source": [
    "### Get the food images data\n",
    "\n",
    "dataset url: https://storage.googleapis.com/ztm_tf_course/food_vision/10_food_classes_10_percent.zip"
   ]
  },
  {
   "cell_type": "code",
   "execution_count": 4,
   "id": "6a638888-68f9-446b-81e4-885ac20424c6",
   "metadata": {},
   "outputs": [
    {
     "name": "stdout",
     "output_type": "stream",
     "text": [
      "There are 2 directories and 0 images in './big_datasets/10_food_classes_10_percent'.\n",
      "There are 10 directories and 0 images in './big_datasets/10_food_classes_10_percent\\test'.\n",
      "There are 0 directories and 250 images in './big_datasets/10_food_classes_10_percent\\test\\chicken_curry'.\n",
      "There are 0 directories and 250 images in './big_datasets/10_food_classes_10_percent\\test\\chicken_wings'.\n",
      "There are 0 directories and 250 images in './big_datasets/10_food_classes_10_percent\\test\\fried_rice'.\n",
      "There are 0 directories and 250 images in './big_datasets/10_food_classes_10_percent\\test\\grilled_salmon'.\n",
      "There are 0 directories and 250 images in './big_datasets/10_food_classes_10_percent\\test\\hamburger'.\n",
      "There are 0 directories and 250 images in './big_datasets/10_food_classes_10_percent\\test\\ice_cream'.\n",
      "There are 0 directories and 250 images in './big_datasets/10_food_classes_10_percent\\test\\pizza'.\n",
      "There are 0 directories and 250 images in './big_datasets/10_food_classes_10_percent\\test\\ramen'.\n",
      "There are 0 directories and 250 images in './big_datasets/10_food_classes_10_percent\\test\\steak'.\n",
      "There are 0 directories and 250 images in './big_datasets/10_food_classes_10_percent\\test\\sushi'.\n",
      "There are 10 directories and 0 images in './big_datasets/10_food_classes_10_percent\\train'.\n",
      "There are 0 directories and 75 images in './big_datasets/10_food_classes_10_percent\\train\\chicken_curry'.\n",
      "There are 0 directories and 75 images in './big_datasets/10_food_classes_10_percent\\train\\chicken_wings'.\n",
      "There are 0 directories and 75 images in './big_datasets/10_food_classes_10_percent\\train\\fried_rice'.\n",
      "There are 0 directories and 75 images in './big_datasets/10_food_classes_10_percent\\train\\grilled_salmon'.\n",
      "There are 0 directories and 75 images in './big_datasets/10_food_classes_10_percent\\train\\hamburger'.\n",
      "There are 0 directories and 75 images in './big_datasets/10_food_classes_10_percent\\train\\ice_cream'.\n",
      "There are 0 directories and 75 images in './big_datasets/10_food_classes_10_percent\\train\\pizza'.\n",
      "There are 0 directories and 75 images in './big_datasets/10_food_classes_10_percent\\train\\ramen'.\n",
      "There are 0 directories and 75 images in './big_datasets/10_food_classes_10_percent\\train\\steak'.\n",
      "There are 0 directories and 75 images in './big_datasets/10_food_classes_10_percent\\train\\sushi'.\n"
     ]
    }
   ],
   "source": [
    "# How many images in each folder?\n",
    "import os\n",
    "\n",
    "# Walk through 10 percent data directory and list number of files\n",
    "for dirpath, dirnames, filenames in os.walk(\"./big_datasets/10_food_classes_10_percent\"):\n",
    "  print(f\"There are {len(dirnames)} directories and {len(filenames)} images in '{dirpath}'.\")"
   ]
  },
  {
   "cell_type": "markdown",
   "id": "b0842131-643f-4d10-9c61-1e37ac2ba046",
   "metadata": {},
   "source": [
    "#### prepare the data with ImageDataGenerator"
   ]
  },
  {
   "cell_type": "code",
   "execution_count": 5,
   "id": "03ef6404-7f2f-4e0a-9423-dc6c1cf12fb6",
   "metadata": {},
   "outputs": [
    {
     "name": "stdout",
     "output_type": "stream",
     "text": [
      "Training images:\n",
      "Found 750 images belonging to 10 classes.\n",
      "Testing images:\n",
      "Found 2500 images belonging to 10 classes.\n"
     ]
    }
   ],
   "source": [
    "# Setup data inputs\n",
    "from tensorflow.keras.preprocessing.image import ImageDataGenerator\n",
    "\n",
    "IMAGE_SHAPE = (224, 224)\n",
    "BATCH_SIZE = 32\n",
    "\n",
    "train_dir = \"./big_datasets/10_food_classes_10_percent/train/\"\n",
    "test_dir = \"./big_datasets/10_food_classes_10_percent/test/\"\n",
    "\n",
    "train_datagen = ImageDataGenerator(rescale=1/255.)\n",
    "test_datagen = ImageDataGenerator(rescale=1/255.)\n",
    "\n",
    "print(\"Training images:\")\n",
    "train_data_10_percent = train_datagen.flow_from_directory(train_dir,\n",
    "                                               target_size=IMAGE_SHAPE,\n",
    "                                               batch_size=BATCH_SIZE,\n",
    "                                               class_mode=\"categorical\")\n",
    "\n",
    "print(\"Testing images:\")\n",
    "test_data = train_datagen.flow_from_directory(test_dir,\n",
    "                                              target_size=IMAGE_SHAPE,\n",
    "                                              batch_size=BATCH_SIZE,\n",
    "                                              class_mode=\"categorical\")"
   ]
  },
  {
   "cell_type": "markdown",
   "id": "0d83e2ac-6b56-42bc-8e37-8ea17446667d",
   "metadata": {},
   "source": [
    "### TensorBoard callbacks\n",
    "with logs saved to files"
   ]
  },
  {
   "cell_type": "code",
   "execution_count": 6,
   "id": "2cb31931-0808-4684-bc5b-e8034874c1be",
   "metadata": {},
   "outputs": [],
   "source": [
    "# Create tensorboard callback (functionized because need to create a new one for each model)\n",
    "import datetime\n",
    "def create_tensorboard_callback(dir_name, experiment_name):\n",
    "  log_dir = dir_name + \"/\" + experiment_name + \"/\" + datetime.datetime.now().strftime(\"%Y%m%d-%H%M%S\")\n",
    "  tensorboard_callback = tf.keras.callbacks.TensorBoard(\n",
    "      log_dir=log_dir\n",
    "  )\n",
    "  print(f\"Saving TensorBoard log files to: {log_dir}\")\n",
    "  return tensorboard_callback"
   ]
  },
  {
   "cell_type": "code",
   "execution_count": 3,
   "id": "79daa7a7-294a-471c-823a-1fb686fe730f",
   "metadata": {},
   "outputs": [],
   "source": [
    "efficientnet_url = \"https://tfhub.dev/google/imagenet/efficientnet_v2_imagenet1k_b0/feature_vector/2\""
   ]
  },
  {
   "cell_type": "markdown",
   "id": "ade17ecb-48ea-463e-ad03-9d7cdebb777f",
   "metadata": {},
   "source": [
    "### Create a model with a feature extraction layer for a multiclass problem"
   ]
  },
  {
   "cell_type": "code",
   "execution_count": 7,
   "id": "c449db52-731e-48fe-987f-1db83b0e4135",
   "metadata": {},
   "outputs": [],
   "source": [
    "def create_model(model_url, num_classes=10):\n",
    "  \"\"\"Takes a TensorFlow Hub URL and creates a Keras Sequential model with it.\n",
    "  \n",
    "  Args:\n",
    "    model_url (str): A TensorFlow Hub feature extraction URL.\n",
    "    num_classes (int): Number of output neurons in output layer,\n",
    "      should be equal to number of target classes, default 10.\n",
    "\n",
    "  Returns:\n",
    "    An uncompiled Keras Sequential model with model_url as feature\n",
    "    extractor layer and Dense output layer with num_classes outputs.\n",
    "  \"\"\"\n",
    "  # Download the pretrained model and save it as a Keras layer\n",
    "  feature_extractor_layer = hub.KerasLayer(model_url,\n",
    "                                           trainable=False, # freeze the underlying patterns\n",
    "                                           name='feature_extraction_layer',\n",
    "                                           input_shape=IMAGE_SHAPE+(3,)) # define the input image shape\n",
    "  \n",
    "  # Create our own model\n",
    "  model = tf.keras.Sequential([\n",
    "    feature_extractor_layer, # use the feature extraction layer as the base\n",
    "    layers.Dense(num_classes, activation='softmax', name='output_layer') # create our own output layer      \n",
    "  ])\n",
    "\n",
    "  return model"
   ]
  },
  {
   "cell_type": "markdown",
   "id": "aa1aa2ed-0633-492c-9758-21bf1e05cb3b",
   "metadata": {},
   "source": [
    "#### As we're using tensorflow hub models, they should be automatically downloaded upon model creation"
   ]
  },
  {
   "cell_type": "code",
   "execution_count": 8,
   "id": "948cf095-35de-4fca-b785-c77a9b112149",
   "metadata": {},
   "outputs": [
    {
     "name": "stdout",
     "output_type": "stream",
     "text": [
      "WARNING:tensorflow:From C:\\Users\\User\\Desktop\\programowanie_web_etc\\python_projects\\ml_projects\\ml_basic\\venv\\lib\\site-packages\\tensorflow_hub\\resolver.py:120: The name tf.gfile.MakeDirs is deprecated. Please use tf.io.gfile.makedirs instead.\n",
      "\n"
     ]
    },
    {
     "name": "stderr",
     "output_type": "stream",
     "text": [
      "WARNING:tensorflow:From C:\\Users\\User\\Desktop\\programowanie_web_etc\\python_projects\\ml_projects\\ml_basic\\venv\\lib\\site-packages\\tensorflow_hub\\resolver.py:120: The name tf.gfile.MakeDirs is deprecated. Please use tf.io.gfile.makedirs instead.\n",
      "\n"
     ]
    },
    {
     "name": "stdout",
     "output_type": "stream",
     "text": [
      "WARNING:tensorflow:From C:\\Users\\User\\Desktop\\programowanie_web_etc\\python_projects\\ml_projects\\ml_basic\\venv\\lib\\site-packages\\tensorflow_hub\\module_v2.py:120: The name tf.saved_model.load_v2 is deprecated. Please use tf.compat.v2.saved_model.load instead.\n",
      "\n"
     ]
    },
    {
     "name": "stderr",
     "output_type": "stream",
     "text": [
      "WARNING:tensorflow:From C:\\Users\\User\\Desktop\\programowanie_web_etc\\python_projects\\ml_projects\\ml_basic\\venv\\lib\\site-packages\\tensorflow_hub\\module_v2.py:120: The name tf.saved_model.load_v2 is deprecated. Please use tf.compat.v2.saved_model.load instead.\n",
      "\n"
     ]
    },
    {
     "name": "stdout",
     "output_type": "stream",
     "text": [
      "WARNING:tensorflow:From C:\\Users\\User\\Desktop\\programowanie_web_etc\\python_projects\\ml_projects\\ml_basic\\venv\\lib\\site-packages\\keras\\src\\backend.py:873: The name tf.get_default_graph is deprecated. Please use tf.compat.v1.get_default_graph instead.\n",
      "\n"
     ]
    },
    {
     "name": "stderr",
     "output_type": "stream",
     "text": [
      "WARNING:tensorflow:From C:\\Users\\User\\Desktop\\programowanie_web_etc\\python_projects\\ml_projects\\ml_basic\\venv\\lib\\site-packages\\keras\\src\\backend.py:873: The name tf.get_default_graph is deprecated. Please use tf.compat.v1.get_default_graph instead.\n",
      "\n"
     ]
    }
   ],
   "source": [
    "efficientnet_model = create_model(efficientnet_url, num_classes=train_data_10_percent.num_classes)"
   ]
  },
  {
   "cell_type": "code",
   "execution_count": 9,
   "id": "86499520-72ac-4b8a-8ecf-feca21ed57e3",
   "metadata": {},
   "outputs": [],
   "source": [
    "efficientnet_model.compile(loss=tf.keras.losses.CategoricalCrossentropy(),\n",
    "                           optimizer = tf.keras.optimizers.Adam(),\n",
    "                           metrics=['Accuracy',])"
   ]
  },
  {
   "cell_type": "code",
   "execution_count": 10,
   "id": "c7904874-feeb-4989-a716-6e81b4297219",
   "metadata": {},
   "outputs": [
    {
     "name": "stdout",
     "output_type": "stream",
     "text": [
      "Saving TensorBoard log files to: tensorflow_hub/EfficientNetV2S/20231214-133356\n",
      "Epoch 1/5\n",
      "WARNING:tensorflow:From C:\\Users\\User\\Desktop\\programowanie_web_etc\\python_projects\\ml_projects\\ml_basic\\venv\\lib\\site-packages\\keras\\src\\utils\\tf_utils.py:492: The name tf.ragged.RaggedTensorValue is deprecated. Please use tf.compat.v1.ragged.RaggedTensorValue instead.\n",
      "\n"
     ]
    },
    {
     "name": "stderr",
     "output_type": "stream",
     "text": [
      "WARNING:tensorflow:From C:\\Users\\User\\Desktop\\programowanie_web_etc\\python_projects\\ml_projects\\ml_basic\\venv\\lib\\site-packages\\keras\\src\\utils\\tf_utils.py:492: The name tf.ragged.RaggedTensorValue is deprecated. Please use tf.compat.v1.ragged.RaggedTensorValue instead.\n",
      "\n"
     ]
    },
    {
     "name": "stdout",
     "output_type": "stream",
     "text": [
      "24/24 [==============================] - 30s 1s/step - loss: 1.9088 - Accuracy: 0.3840 - val_loss: 1.4792 - val_Accuracy: 0.6404\n",
      "Epoch 2/5\n",
      "24/24 [==============================] - 18s 776ms/step - loss: 1.2709 - Accuracy: 0.7080 - val_loss: 1.1025 - val_Accuracy: 0.7132\n",
      "Epoch 3/5\n",
      "24/24 [==============================] - 18s 760ms/step - loss: 0.9764 - Accuracy: 0.7747 - val_loss: 0.9412 - val_Accuracy: 0.7332\n",
      "Epoch 4/5\n",
      "24/24 [==============================] - 18s 773ms/step - loss: 0.8236 - Accuracy: 0.8013 - val_loss: 0.8496 - val_Accuracy: 0.7588\n",
      "Epoch 5/5\n",
      "24/24 [==============================] - 18s 758ms/step - loss: 0.7170 - Accuracy: 0.8227 - val_loss: 0.7908 - val_Accuracy: 0.7696\n"
     ]
    }
   ],
   "source": [
    "# Fit the model\n",
    "efficientnet_history = efficientnet_model.fit(train_data_10_percent,\n",
    "                                  epochs=5,\n",
    "                                  steps_per_epoch=len(train_data_10_percent),\n",
    "                                  validation_data=test_data,\n",
    "                                  validation_steps=len(test_data),\n",
    "                                  # Add TensorBoard callback to model (callbacks parameter takes a list)\n",
    "                                  callbacks=[create_tensorboard_callback(dir_name=\"tensorflow_hub\", # save experiment logs here\n",
    "                                                                         experiment_name=\"EfficientNetV2S\")]) # name of log files"
   ]
  },
  {
   "cell_type": "code",
   "execution_count": 15,
   "id": "26ead89b-2dcc-4968-beed-7c04866c0101",
   "metadata": {},
   "outputs": [],
   "source": [
    "# If you wanted to, you could really turn this into a helper function to load in with a helper.py script...\n",
    "import matplotlib.pyplot as plt\n",
    "\n",
    "# Plot the validation and training data separately\n",
    "def plot_loss_curves(history):\n",
    "  \"\"\"\n",
    "  Returns separate loss curves for training and validation metrics.\n",
    "  \"\"\" \n",
    "  loss = history.history['loss']\n",
    "  val_loss = history.history['val_loss']\n",
    "\n",
    "  accuracy = history.history['Accuracy']\n",
    "  val_accuracy = history.history['val_Accuracy']\n",
    "\n",
    "  epochs = range(len(history.history['loss']))\n",
    "\n",
    "  # Plot loss\n",
    "  plt.plot(epochs, loss, label='training_loss')\n",
    "  plt.plot(epochs, val_loss, label='val_loss')\n",
    "  plt.title('Loss')\n",
    "  plt.xlabel('Epochs')\n",
    "  plt.legend()\n",
    "\n",
    "  # Plot accuracy\n",
    "  plt.figure()\n",
    "  plt.plot(epochs, accuracy, label='training_accuracy')\n",
    "  plt.plot(epochs, val_accuracy, label='val_accuracy')\n",
    "  plt.title('Accuracy')\n",
    "  plt.xlabel('Epochs')\n",
    "  plt.legend();"
   ]
  },
  {
   "cell_type": "code",
   "execution_count": 16,
   "id": "7e2db7c8-3445-4c58-b54e-b87718d23474",
   "metadata": {},
   "outputs": [
    {
     "data": {
      "image/png": "[encoded data removed]",
      "text/plain": [
       "<Figure size 640x480 with 1 Axes>"
      ]
     },
     "metadata": {},
     "output_type": "display_data"
    },
    {
     "data": {
      "image/png": "[encoded data removed]",
      "text/plain": [
       "<Figure size 640x480 with 1 Axes>"
      ]
     },
     "metadata": {},
     "output_type": "display_data"
    }
   ],
   "source": [
    "plot_loss_curves(efficientnet_history)"
   ]
  },
  {
   "cell_type": "code",
   "execution_count": 17,
   "id": "4bfd3625-7301-48d3-b9ec-522e82c02f0b",
   "metadata": {},
   "outputs": [
    {
     "name": "stdout",
     "output_type": "stream",
     "text": [
      "Model: \"sequential\"\n",
      "_________________________________________________________________\n",
      " Layer (type)                Output Shape              Param #   \n",
      "=================================================================\n",
      " feature_extraction_layer (  (None, 1280)              5919312   \n",
      " KerasLayer)                                                     \n",
      "                                                                 \n",
      " output_layer (Dense)        (None, 10)                12810     \n",
      "                                                                 \n",
      "=================================================================\n",
      "Total params: 5932122 (22.63 MB)\n",
      "Trainable params: 12810 (50.04 KB)\n",
      "Non-trainable params: 5919312 (22.58 MB)\n",
      "_________________________________________________________________\n"
     ]
    }
   ],
   "source": [
    "efficientnet_model.summary()"
   ]
  },
  {
   "cell_type": "markdown",
   "id": "9cd59030-acab-4bed-866c-92af7c7d2b10",
   "metadata": {},
   "source": [
    "### Running tensorboard\n",
    "Run in notebook or a separate terminal window without the '!'\n",
    "tut: https://www.tensorflow.org/tensorboard/get_started?hl=en  \n",
    "\n",
    "#### commands:\n",
    "!tensorboard --logdir=./tensorflow_hub/EfficientNetV2S/20231214-133356/events.out.tfevents.1702557236.USER-KOMPUTER.11184.0.v2\n",
    "\n",
    "!tensorboard --logdir=./tensorflow_hub/\n",
    "\n",
    "**'./' important**"
   ]
  },
  {
   "cell_type": "code",
   "execution_count": 36,
   "id": "c8492142-d194-40e4-bf80-800bd87ff228",
   "metadata": {},
   "outputs": [
    {
     "name": "stdout",
     "output_type": "stream",
     "text": [
      "Known TensorBoard instances:\n",
      "  - port 6006: logdir /tensorflow_hub (started 0:13:25 ago; pid 23476)\n"
     ]
    }
   ],
   "source": [
    "from tensorboard import notebook\n",
    "notebook.list() # View open TensorBoard instances"
   ]
  },
  {
   "cell_type": "code",
   "execution_count": 38,
   "id": "f3a20af0-7128-41a2-a57c-d5c7db8d5c35",
   "metadata": {},
   "outputs": [
    {
     "name": "stdout",
     "output_type": "stream",
     "text": [
      "Selecting TensorBoard with logdir ./tensorflow_hub/ (started 0:00:31 ago; port 6007, pid 25248).\n"
     ]
    },
    {
     "data": {
      "text/html": [
       "\n",
       "      <iframe id=\"tensorboard-frame-cd35c37482c42fde\" width=\"100%\" height=\"1000\" frameborder=\"0\">\n",
       "      </iframe>\n",
       "      <script>\n",
       "        (function() {\n",
       "          const frame = document.getElementById(\"tensorboard-frame-cd35c37482c42fde\");\n",
       "          const url = new URL(\"/\", window.location);\n",
       "          const port = 6007;\n",
       "          if (port) {\n",
       "            url.port = port;\n",
       "          }\n",
       "          frame.src = url;\n",
       "        })();\n",
       "      </script>\n",
       "    "
      ],
      "text/plain": [
       "<IPython.core.display.HTML object>"
      ]
     },
     "metadata": {},
     "output_type": "display_data"
    }
   ],
   "source": [
    "notebook.display(port=6007, height=1000)"
   ]
  },
  {
   "cell_type": "code",
   "execution_count": 35,
   "id": "1061d5e1-887d-4c6a-ac22-9ea57c57b402",
   "metadata": {},
   "outputs": [
    {
     "name": "stderr",
     "output_type": "stream",
     "text": [
      "2023-12-14 14:01:01.121565: I tensorflow/core/util/port.cc:113] oneDNN custom operations are on. You may see slightly different numerical results due to floating-point round-off errors from different computation orders. To turn them off, set the environment variable `TF_ENABLE_ONEDNN_OPTS=0`.\n",
      "WARNING:tensorflow:From C:\\Users\\User\\Desktop\\programowanie_web_etc\\python_projects\\ml_projects\\ml_basic\\venv\\lib\\site-packages\\keras\\src\\losses.py:2976: The name tf.losses.sparse_softmax_cross_entropy is deprecated. Please use tf.compat.v1.losses.sparse_softmax_cross_entropy instead.\n",
      "\n",
      "****************************************************************\n",
      "****************************************************************\n",
      "****************************************************************\n",
      "\n",
      "Uploading TensorBoard logs to https://tensorboard.dev/ is no longer\n",
      "supported.\n",
      "\n",
      "TensorBoard.dev is shutting down.\n",
      "\n",
      "Please export your experiments by Dec 31, 2023.\n",
      "\n",
      "See the FAQ at https://tensorboard.dev.\n",
      "\n",
      "****************************************************************\n",
      "****************************************************************\n",
      "****************************************************************\n"
     ]
    }
   ],
   "source": [
    "!tensorboard dev upload --logdir ./tensorflow_hub/"
   ]
  }
 ],
 "metadata": {
  "kernelspec": {
   "display_name": "ml_venv",
   "language": "python",
   "name": "ml_venv"
  },
  "language_info": {
   "codemirror_mode": {
    "name": "ipython",
    "version": 3
   },
   "file_extension": ".py",
   "mimetype": "text/x-python",
   "name": "python",
   "nbconvert_exporter": "python",
   "pygments_lexer": "ipython3",
   "version": "3.10.9"
  }
 },
 "nbformat": 4,
 "nbformat_minor": 5
}
