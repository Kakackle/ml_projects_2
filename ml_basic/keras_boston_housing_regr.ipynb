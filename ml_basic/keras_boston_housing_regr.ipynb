{
 "cells": [
  {
   "cell_type": "code",
   "execution_count": 6,
   "id": "55638c2c-125b-45a5-8bfe-73cfa1ec14bf",
   "metadata": {},
   "outputs": [],
   "source": [
    "import tensorflow as tf\n",
    "import pandas as pd\n",
    "import matplotlib.pyplot as plt\n",
    "import numpy as np"
   ]
  },
  {
   "cell_type": "code",
   "execution_count": 3,
   "id": "7b79b107-5781-4e00-bb47-5ba0a5a134a5",
   "metadata": {},
   "outputs": [],
   "source": [
    "(x_train, y_train), (x_test, y_test) = tf.keras.datasets.boston_housing.load_data(path='boston_housing.npz', test_split=0.2, seed=1)"
   ]
  },
  {
   "cell_type": "code",
   "execution_count": 5,
   "id": "7b3372b9-cd61-409c-8612-2906056532b4",
   "metadata": {},
   "outputs": [
    {
     "data": {
      "text/plain": [
       "array([[4.93200e-02, 3.30000e+01, 2.18000e+00, ..., 1.84000e+01,\n",
       "        3.96900e+02, 7.53000e+00],\n",
       "       [2.54300e-02, 5.50000e+01, 3.78000e+00, ..., 1.76000e+01,\n",
       "        3.96900e+02, 7.18000e+00],\n",
       "       [2.29270e-01, 0.00000e+00, 6.91000e+00, ..., 1.79000e+01,\n",
       "        3.92740e+02, 1.88000e+01],\n",
       "       ...,\n",
       "       [1.00080e-01, 0.00000e+00, 2.46000e+00, ..., 1.78000e+01,\n",
       "        3.96900e+02, 5.68000e+00],\n",
       "       [1.49632e+00, 0.00000e+00, 1.95800e+01, ..., 1.47000e+01,\n",
       "        3.41600e+02, 1.32800e+01],\n",
       "       [7.75223e+00, 0.00000e+00, 1.81000e+01, ..., 2.02000e+01,\n",
       "        2.72210e+02, 1.62300e+01]])"
      ]
     },
     "execution_count": 5,
     "metadata": {},
     "output_type": "execute_result"
    }
   ],
   "source": [
    "x_train"
   ]
  },
  {
   "cell_type": "code",
   "execution_count": 7,
   "id": "19bee813-727e-496b-8ea7-fbc3fa768d74",
   "metadata": {},
   "outputs": [
    {
     "name": "stdout",
     "output_type": "stream",
     "text": [
      "WARNING:tensorflow:From C:\\Users\\User\\Desktop\\programowanie_web_etc\\python_projects\\ml_projects\\ml_basic\\venv\\lib\\site-packages\\keras\\src\\backend.py:873: The name tf.get_default_graph is deprecated. Please use tf.compat.v1.get_default_graph instead.\n",
      "\n"
     ]
    }
   ],
   "source": [
    "model = tf.keras.Sequential([\n",
    "    tf.keras.layers.Dense(100, activation='relu'),\n",
    "    tf.keras.layers.Dense(10, activation='relu'),\n",
    "    tf.keras.layers.Dense(1),\n",
    "])"
   ]
  },
  {
   "cell_type": "code",
   "execution_count": 8,
   "id": "ded1da5f-e7e0-49b1-9729-31fc9babc96a",
   "metadata": {},
   "outputs": [
    {
     "name": "stdout",
     "output_type": "stream",
     "text": [
      "WARNING:tensorflow:From C:\\Users\\User\\Desktop\\programowanie_web_etc\\python_projects\\ml_projects\\ml_basic\\venv\\lib\\site-packages\\keras\\src\\optimizers\\__init__.py:309: The name tf.train.Optimizer is deprecated. Please use tf.compat.v1.train.Optimizer instead.\n",
      "\n"
     ]
    }
   ],
   "source": [
    "model.compile(\n",
    "    loss='mae',\n",
    "    optimizer='adam',\n",
    "    metrics=['mae',]\n",
    ")"
   ]
  },
  {
   "cell_type": "code",
   "execution_count": 10,
   "id": "2f1b05b4-47c5-4ed3-9423-1cc5f86bdd3e",
   "metadata": {
    "scrolled": true
   },
   "outputs": [
    {
     "name": "stdout",
     "output_type": "stream",
     "text": [
      "Epoch 1/50\n",
      "WARNING:tensorflow:From C:\\Users\\User\\Desktop\\programowanie_web_etc\\python_projects\\ml_projects\\ml_basic\\venv\\lib\\site-packages\\keras\\src\\utils\\tf_utils.py:492: The name tf.ragged.RaggedTensorValue is deprecated. Please use tf.compat.v1.ragged.RaggedTensorValue instead.\n",
      "\n",
      "WARNING:tensorflow:From C:\\Users\\User\\Desktop\\programowanie_web_etc\\python_projects\\ml_projects\\ml_basic\\venv\\lib\\site-packages\\keras\\src\\engine\\base_layer_utils.py:384: The name tf.executing_eagerly_outside_functions is deprecated. Please use tf.compat.v1.executing_eagerly_outside_functions instead.\n",
      "\n",
      "13/13 [==============================] - 1s 1ms/step - loss: 8.2046 - mae: 8.2046\n",
      "Epoch 2/50\n",
      "13/13 [==============================] - 0s 917us/step - loss: 5.7679 - mae: 5.7679\n",
      "Epoch 3/50\n",
      "13/13 [==============================] - 0s 2ms/step - loss: 5.8839 - mae: 5.8839\n",
      "Epoch 4/50\n",
      "13/13 [==============================] - 0s 917us/step - loss: 5.9849 - mae: 5.9849\n",
      "Epoch 5/50\n",
      "13/13 [==============================] - 0s 833us/step - loss: 5.3016 - mae: 5.3016\n",
      "Epoch 6/50\n",
      "13/13 [==============================] - 0s 917us/step - loss: 5.0786 - mae: 5.0786\n",
      "Epoch 7/50\n",
      "13/13 [==============================] - 0s 1000us/step - loss: 5.2107 - mae: 5.2107\n",
      "Epoch 8/50\n",
      "13/13 [==============================] - 0s 833us/step - loss: 4.9843 - mae: 4.9843\n",
      "Epoch 9/50\n",
      "13/13 [==============================] - 0s 833us/step - loss: 5.0588 - mae: 5.0588\n",
      "Epoch 10/50\n",
      "13/13 [==============================] - 0s 833us/step - loss: 4.9905 - mae: 4.9905\n",
      "Epoch 11/50\n",
      "13/13 [==============================] - 0s 833us/step - loss: 4.7165 - mae: 4.7165\n",
      "Epoch 12/50\n",
      "13/13 [==============================] - 0s 833us/step - loss: 4.9122 - mae: 4.9122\n",
      "Epoch 13/50\n",
      "13/13 [==============================] - 0s 833us/step - loss: 4.8704 - mae: 4.8704\n",
      "Epoch 14/50\n",
      "13/13 [==============================] - 0s 917us/step - loss: 5.3586 - mae: 5.3586\n",
      "Epoch 15/50\n",
      "13/13 [==============================] - 0s 917us/step - loss: 4.9488 - mae: 4.9488\n",
      "Epoch 16/50\n",
      "13/13 [==============================] - 0s 917us/step - loss: 4.4094 - mae: 4.4094\n",
      "Epoch 17/50\n",
      "13/13 [==============================] - 0s 833us/step - loss: 4.3926 - mae: 4.3926\n",
      "Epoch 18/50\n",
      "13/13 [==============================] - 0s 834us/step - loss: 4.4607 - mae: 4.4607\n",
      "Epoch 19/50\n",
      "13/13 [==============================] - 0s 833us/step - loss: 4.6112 - mae: 4.6112\n",
      "Epoch 20/50\n",
      "13/13 [==============================] - 0s 833us/step - loss: 4.2543 - mae: 4.2543\n",
      "Epoch 21/50\n",
      "13/13 [==============================] - 0s 917us/step - loss: 4.2733 - mae: 4.2733\n",
      "Epoch 22/50\n",
      "13/13 [==============================] - 0s 834us/step - loss: 4.3722 - mae: 4.3722\n",
      "Epoch 23/50\n",
      "13/13 [==============================] - 0s 750us/step - loss: 4.2777 - mae: 4.2777\n",
      "Epoch 24/50\n",
      "13/13 [==============================] - 0s 833us/step - loss: 4.0534 - mae: 4.0534\n",
      "Epoch 25/50\n",
      "13/13 [==============================] - 0s 875us/step - loss: 4.3460 - mae: 4.3460\n",
      "Epoch 26/50\n",
      "13/13 [==============================] - 0s 833us/step - loss: 4.2807 - mae: 4.2807\n",
      "Epoch 27/50\n",
      "13/13 [==============================] - 0s 833us/step - loss: 4.4296 - mae: 4.4296\n",
      "Epoch 28/50\n",
      "13/13 [==============================] - 0s 750us/step - loss: 4.2228 - mae: 4.2228\n",
      "Epoch 29/50\n",
      "13/13 [==============================] - 0s 916us/step - loss: 4.1850 - mae: 4.1850\n",
      "Epoch 30/50\n",
      "13/13 [==============================] - 0s 1ms/step - loss: 4.7839 - mae: 4.7839\n",
      "Epoch 31/50\n",
      "13/13 [==============================] - 0s 1000us/step - loss: 4.1618 - mae: 4.1618\n",
      "Epoch 32/50\n",
      "13/13 [==============================] - 0s 917us/step - loss: 4.2781 - mae: 4.2781\n",
      "Epoch 33/50\n",
      "13/13 [==============================] - 0s 833us/step - loss: 4.2573 - mae: 4.2573\n",
      "Epoch 34/50\n",
      "13/13 [==============================] - 0s 833us/step - loss: 3.9597 - mae: 3.9597\n",
      "Epoch 35/50\n",
      "13/13 [==============================] - 0s 917us/step - loss: 3.8922 - mae: 3.8922\n",
      "Epoch 36/50\n",
      "13/13 [==============================] - 0s 917us/step - loss: 3.9285 - mae: 3.9285\n",
      "Epoch 37/50\n",
      "13/13 [==============================] - 0s 833us/step - loss: 4.1970 - mae: 4.1970\n",
      "Epoch 38/50\n",
      "13/13 [==============================] - 0s 833us/step - loss: 4.2232 - mae: 4.2232\n",
      "Epoch 39/50\n",
      "13/13 [==============================] - 0s 917us/step - loss: 3.9948 - mae: 3.9948\n",
      "Epoch 40/50\n",
      "13/13 [==============================] - 0s 917us/step - loss: 4.1144 - mae: 4.1144\n",
      "Epoch 41/50\n",
      "13/13 [==============================] - 0s 916us/step - loss: 4.1426 - mae: 4.1426\n",
      "Epoch 42/50\n",
      "13/13 [==============================] - 0s 917us/step - loss: 4.0182 - mae: 4.0182\n",
      "Epoch 43/50\n",
      "13/13 [==============================] - 0s 833us/step - loss: 4.0152 - mae: 4.0152\n",
      "Epoch 44/50\n",
      "13/13 [==============================] - 0s 833us/step - loss: 3.9308 - mae: 3.9308\n",
      "Epoch 45/50\n",
      "13/13 [==============================] - 0s 916us/step - loss: 3.9575 - mae: 3.9575\n",
      "Epoch 46/50\n",
      "13/13 [==============================] - 0s 917us/step - loss: 4.7384 - mae: 4.7384\n",
      "Epoch 47/50\n",
      "13/13 [==============================] - 0s 917us/step - loss: 4.1136 - mae: 4.1136\n",
      "Epoch 48/50\n",
      "13/13 [==============================] - 0s 917us/step - loss: 3.8200 - mae: 3.8200\n",
      "Epoch 49/50\n",
      "13/13 [==============================] - 0s 917us/step - loss: 3.7705 - mae: 3.7705\n",
      "Epoch 50/50\n",
      "13/13 [==============================] - 0s 917us/step - loss: 3.8012 - mae: 3.8012\n"
     ]
    },
    {
     "data": {
      "text/plain": [
       "<keras.src.callbacks.History at 0x29243357880>"
      ]
     },
     "execution_count": 10,
     "metadata": {},
     "output_type": "execute_result"
    }
   ],
   "source": [
    "model.fit(x_train, y_train, epochs = 50)"
   ]
  },
  {
   "cell_type": "code",
   "execution_count": 15,
   "id": "5e0eaa61-0351-4087-b82e-d63a61ca7a1f",
   "metadata": {},
   "outputs": [
    {
     "name": "stdout",
     "output_type": "stream",
     "text": [
      "4/4 [==============================] - 0s 1000us/step\n"
     ]
    }
   ],
   "source": [
    "y_pred = model.predict(x_test)"
   ]
  },
  {
   "cell_type": "code",
   "execution_count": 21,
   "id": "482c97b0-cb6f-4488-ab78-afd9d5f4b1ec",
   "metadata": {},
   "outputs": [
    {
     "data": {
      "text/plain": [
       "102"
      ]
     },
     "execution_count": 21,
     "metadata": {},
     "output_type": "execute_result"
    }
   ],
   "source": [
    "y_pred.shape[0]"
   ]
  },
  {
   "cell_type": "code",
   "execution_count": 22,
   "id": "e54d9d1a-e313-4f21-b874-5f91d6410cf6",
   "metadata": {},
   "outputs": [
    {
     "data": {
      "text/plain": [
       "(102,)"
      ]
     },
     "execution_count": 22,
     "metadata": {},
     "output_type": "execute_result"
    }
   ],
   "source": [
    "x_plot = np.linspace(1, y_pred.shape[0], y_pred.shape[0])\n",
    "x_plot.shape"
   ]
  },
  {
   "cell_type": "code",
   "execution_count": 23,
   "id": "7d4eed84-8187-4d9e-9f2a-921306dd2c42",
   "metadata": {},
   "outputs": [
    {
     "data": {
      "image/png": "[encoded data removed]",
      "text/plain": [
       "<Figure size 1000x700 with 1 Axes>"
      ]
     },
     "metadata": {},
     "output_type": "display_data"
    }
   ],
   "source": [
    "plt.figure(figsize=(10,7))\n",
    "plt.scatter(x_plot, y_test, c='g', label='test data'),\n",
    "plt.scatter(x_plot, y_pred, c='r', label='pred data'),\n",
    "plt.legend()\n",
    "plt.show()"
   ]
  },
  {
   "cell_type": "code",
   "execution_count": 30,
   "id": "6fc39612-f2fb-43c0-ab16-b9aabeef147c",
   "metadata": {},
   "outputs": [],
   "source": [
    "x_train_df = pd.DataFrame(x_train)\n",
    "x_test_df = pd.DataFrame(x_test)"
   ]
  },
  {
   "cell_type": "code",
   "execution_count": null,
   "id": "4e5e5f52-ddc3-4b23-9e12-4ddadc7f52b5",
   "metadata": {},
   "outputs": [],
   "source": [
    "numerical_cols = [cname for cname in X_train_full.columns if \n",
    "                X_train_full[cname].dtype in ['int64', 'float64']]"
   ]
  },
  {
   "cell_type": "code",
   "execution_count": 37,
   "id": "c6219029-62b2-4612-8bc3-e3cd583ed62e",
   "metadata": {},
   "outputs": [
    {
     "data": {
      "text/plain": [
       "[0, 1, 2, 3, 4, 5, 6, 7, 8, 9, 10, 11, 12]"
      ]
     },
     "execution_count": 37,
     "metadata": {},
     "output_type": "execute_result"
    }
   ],
   "source": [
    "number_cols = x_train_df.select_dtypes(include='number')\n",
    "number_cols = list(number_cols.columns)\n",
    "number_cols"
   ]
  },
  {
   "cell_type": "code",
   "execution_count": 26,
   "id": "ee507f52-7640-4652-89e4-df59c2a37151",
   "metadata": {
    "collapsed": true,
    "jupyter": {
     "outputs_hidden": true
    },
    "scrolled": true
   },
   "outputs": [
    {
     "data": {
      "text/html": [
       "<div>\n",
       "<style scoped>\n",
       "    .dataframe tbody tr th:only-of-type {\n",
       "        vertical-align: middle;\n",
       "    }\n",
       "\n",
       "    .dataframe tbody tr th {\n",
       "        vertical-align: top;\n",
       "    }\n",
       "\n",
       "    .dataframe thead th {\n",
       "        text-align: right;\n",
       "    }\n",
       "</style>\n",
       "<table border=\"1\" class=\"dataframe\">\n",
       "  <thead>\n",
       "    <tr style=\"text-align: right;\">\n",
       "      <th></th>\n",
       "      <th>0</th>\n",
       "      <th>1</th>\n",
       "      <th>2</th>\n",
       "      <th>3</th>\n",
       "      <th>4</th>\n",
       "      <th>5</th>\n",
       "      <th>6</th>\n",
       "      <th>7</th>\n",
       "      <th>8</th>\n",
       "      <th>9</th>\n",
       "      <th>10</th>\n",
       "      <th>11</th>\n",
       "      <th>12</th>\n",
       "    </tr>\n",
       "  </thead>\n",
       "  <tbody>\n",
       "    <tr>\n",
       "      <th>0</th>\n",
       "      <td>0.04932</td>\n",
       "      <td>33.0</td>\n",
       "      <td>2.18</td>\n",
       "      <td>0.0</td>\n",
       "      <td>0.472</td>\n",
       "      <td>6.849</td>\n",
       "      <td>70.3</td>\n",
       "      <td>3.1827</td>\n",
       "      <td>7.0</td>\n",
       "      <td>222.0</td>\n",
       "      <td>18.4</td>\n",
       "      <td>396.90</td>\n",
       "      <td>7.53</td>\n",
       "    </tr>\n",
       "    <tr>\n",
       "      <th>1</th>\n",
       "      <td>0.02543</td>\n",
       "      <td>55.0</td>\n",
       "      <td>3.78</td>\n",
       "      <td>0.0</td>\n",
       "      <td>0.484</td>\n",
       "      <td>6.696</td>\n",
       "      <td>56.4</td>\n",
       "      <td>5.7321</td>\n",
       "      <td>5.0</td>\n",
       "      <td>370.0</td>\n",
       "      <td>17.6</td>\n",
       "      <td>396.90</td>\n",
       "      <td>7.18</td>\n",
       "    </tr>\n",
       "    <tr>\n",
       "      <th>2</th>\n",
       "      <td>0.22927</td>\n",
       "      <td>0.0</td>\n",
       "      <td>6.91</td>\n",
       "      <td>0.0</td>\n",
       "      <td>0.448</td>\n",
       "      <td>6.030</td>\n",
       "      <td>85.5</td>\n",
       "      <td>5.6894</td>\n",
       "      <td>3.0</td>\n",
       "      <td>233.0</td>\n",
       "      <td>17.9</td>\n",
       "      <td>392.74</td>\n",
       "      <td>18.80</td>\n",
       "    </tr>\n",
       "    <tr>\n",
       "      <th>3</th>\n",
       "      <td>0.05789</td>\n",
       "      <td>12.5</td>\n",
       "      <td>6.07</td>\n",
       "      <td>0.0</td>\n",
       "      <td>0.409</td>\n",
       "      <td>5.878</td>\n",
       "      <td>21.4</td>\n",
       "      <td>6.4980</td>\n",
       "      <td>4.0</td>\n",
       "      <td>345.0</td>\n",
       "      <td>18.9</td>\n",
       "      <td>396.21</td>\n",
       "      <td>8.10</td>\n",
       "    </tr>\n",
       "    <tr>\n",
       "      <th>4</th>\n",
       "      <td>3.67822</td>\n",
       "      <td>0.0</td>\n",
       "      <td>18.10</td>\n",
       "      <td>0.0</td>\n",
       "      <td>0.770</td>\n",
       "      <td>5.362</td>\n",
       "      <td>96.2</td>\n",
       "      <td>2.1036</td>\n",
       "      <td>24.0</td>\n",
       "      <td>666.0</td>\n",
       "      <td>20.2</td>\n",
       "      <td>380.79</td>\n",
       "      <td>10.19</td>\n",
       "    </tr>\n",
       "  </tbody>\n",
       "</table>\n",
       "</div>"
      ],
      "text/plain": [
       "        0     1      2    3      4      5     6       7     8      9     10  \\\n",
       "0  0.04932  33.0   2.18  0.0  0.472  6.849  70.3  3.1827   7.0  222.0  18.4   \n",
       "1  0.02543  55.0   3.78  0.0  0.484  6.696  56.4  5.7321   5.0  370.0  17.6   \n",
       "2  0.22927   0.0   6.91  0.0  0.448  6.030  85.5  5.6894   3.0  233.0  17.9   \n",
       "3  0.05789  12.5   6.07  0.0  0.409  5.878  21.4  6.4980   4.0  345.0  18.9   \n",
       "4  3.67822   0.0  18.10  0.0  0.770  5.362  96.2  2.1036  24.0  666.0  20.2   \n",
       "\n",
       "       11     12  \n",
       "0  396.90   7.53  \n",
       "1  396.90   7.18  \n",
       "2  392.74  18.80  \n",
       "3  396.21   8.10  \n",
       "4  380.79  10.19  "
      ]
     },
     "execution_count": 26,
     "metadata": {},
     "output_type": "execute_result"
    }
   ],
   "source": [
    "x_train_df.head()"
   ]
  },
  {
   "cell_type": "code",
   "execution_count": 27,
   "id": "a9c7e3de-8818-4123-bd14-5a62deb42429",
   "metadata": {},
   "outputs": [],
   "source": [
    "from sklearn.compose import make_column_transformer\n",
    "from sklearn.preprocessing import MinMaxScaler"
   ]
  },
  {
   "cell_type": "code",
   "execution_count": 38,
   "id": "a2401e37-018a-4f9f-b4b1-b231244bc3e6",
   "metadata": {},
   "outputs": [],
   "source": [
    "ct = make_column_transformer(\n",
    "    (MinMaxScaler(), number_cols)\n",
    ")"
   ]
  },
  {
   "cell_type": "code",
   "execution_count": 39,
   "id": "eb5ed3ad-a9e7-461b-ad2c-013ea375ff6e",
   "metadata": {},
   "outputs": [
    {
     "data": {
      "text/html": [
       "<style>#sk-container-id-1 {color: black;}#sk-container-id-1 pre{padding: 0;}#sk-container-id-1 div.sk-toggleable {background-color: white;}#sk-container-id-1 label.sk-toggleable__label {cursor: pointer;display: block;width: 100%;margin-bottom: 0;padding: 0.3em;box-sizing: border-box;text-align: center;}#sk-container-id-1 label.sk-toggleable__label-arrow:before {content: \"▸\";float: left;margin-right: 0.25em;color: #696969;}#sk-container-id-1 label.sk-toggleable__label-arrow:hover:before {color: black;}#sk-container-id-1 div.sk-estimator:hover label.sk-toggleable__label-arrow:before {color: black;}#sk-container-id-1 div.sk-toggleable__content {max-height: 0;max-width: 0;overflow: hidden;text-align: left;background-color: #f0f8ff;}#sk-container-id-1 div.sk-toggleable__content pre {margin: 0.2em;color: black;border-radius: 0.25em;background-color: #f0f8ff;}#sk-container-id-1 input.sk-toggleable__control:checked~div.sk-toggleable__content {max-height: 200px;max-width: 100%;overflow: auto;}#sk-container-id-1 input.sk-toggleable__control:checked~label.sk-toggleable__label-arrow:before {content: \"▾\";}#sk-container-id-1 div.sk-estimator input.sk-toggleable__control:checked~label.sk-toggleable__label {background-color: #d4ebff;}#sk-container-id-1 div.sk-label input.sk-toggleable__control:checked~label.sk-toggleable__label {background-color: #d4ebff;}#sk-container-id-1 input.sk-hidden--visually {border: 0;clip: rect(1px 1px 1px 1px);clip: rect(1px, 1px, 1px, 1px);height: 1px;margin: -1px;overflow: hidden;padding: 0;position: absolute;width: 1px;}#sk-container-id-1 div.sk-estimator {font-family: monospace;background-color: #f0f8ff;border: 1px dotted black;border-radius: 0.25em;box-sizing: border-box;margin-bottom: 0.5em;}#sk-container-id-1 div.sk-estimator:hover {background-color: #d4ebff;}#sk-container-id-1 div.sk-parallel-item::after {content: \"\";width: 100%;border-bottom: 1px solid gray;flex-grow: 1;}#sk-container-id-1 div.sk-label:hover label.sk-toggleable__label {background-color: #d4ebff;}#sk-container-id-1 div.sk-serial::before {content: \"\";position: absolute;border-left: 1px solid gray;box-sizing: border-box;top: 0;bottom: 0;left: 50%;z-index: 0;}#sk-container-id-1 div.sk-serial {display: flex;flex-direction: column;align-items: center;background-color: white;padding-right: 0.2em;padding-left: 0.2em;position: relative;}#sk-container-id-1 div.sk-item {position: relative;z-index: 1;}#sk-container-id-1 div.sk-parallel {display: flex;align-items: stretch;justify-content: center;background-color: white;position: relative;}#sk-container-id-1 div.sk-item::before, #sk-container-id-1 div.sk-parallel-item::before {content: \"\";position: absolute;border-left: 1px solid gray;box-sizing: border-box;top: 0;bottom: 0;left: 50%;z-index: -1;}#sk-container-id-1 div.sk-parallel-item {display: flex;flex-direction: column;z-index: 1;position: relative;background-color: white;}#sk-container-id-1 div.sk-parallel-item:first-child::after {align-self: flex-end;width: 50%;}#sk-container-id-1 div.sk-parallel-item:last-child::after {align-self: flex-start;width: 50%;}#sk-container-id-1 div.sk-parallel-item:only-child::after {width: 0;}#sk-container-id-1 div.sk-dashed-wrapped {border: 1px dashed gray;margin: 0 0.4em 0.5em 0.4em;box-sizing: border-box;padding-bottom: 0.4em;background-color: white;}#sk-container-id-1 div.sk-label label {font-family: monospace;font-weight: bold;display: inline-block;line-height: 1.2em;}#sk-container-id-1 div.sk-label-container {text-align: center;}#sk-container-id-1 div.sk-container {/* jupyter's `normalize.less` sets `[hidden] { display: none; }` but bootstrap.min.css set `[hidden] { display: none !important; }` so we also need the `!important` here to be able to override the default hidden behavior on the sphinx rendered scikit-learn.org. See: https://github.com/scikit-learn/scikit-learn/issues/21755 */display: inline-block !important;position: relative;}#sk-container-id-1 div.sk-text-repr-fallback {display: none;}</style><div id=\"sk-container-id-1\" class=\"sk-top-container\"><div class=\"sk-text-repr-fallback\"><pre>ColumnTransformer(transformers=[(&#x27;minmaxscaler&#x27;, MinMaxScaler(),\n",
       "                                 [0, 1, 2, 3, 4, 5, 6, 7, 8, 9, 10, 11, 12])])</pre><b>In a Jupyter environment, please rerun this cell to show the HTML representation or trust the notebook. <br />On GitHub, the HTML representation is unable to render, please try loading this page with nbviewer.org.</b></div><div class=\"sk-container\" hidden><div class=\"sk-item sk-dashed-wrapped\"><div class=\"sk-label-container\"><div class=\"sk-label sk-toggleable\"><input class=\"sk-toggleable__control sk-hidden--visually\" id=\"sk-estimator-id-1\" type=\"checkbox\" ><label for=\"sk-estimator-id-1\" class=\"sk-toggleable__label sk-toggleable__label-arrow\">ColumnTransformer</label><div class=\"sk-toggleable__content\"><pre>ColumnTransformer(transformers=[(&#x27;minmaxscaler&#x27;, MinMaxScaler(),\n",
       "                                 [0, 1, 2, 3, 4, 5, 6, 7, 8, 9, 10, 11, 12])])</pre></div></div></div><div class=\"sk-parallel\"><div class=\"sk-parallel-item\"><div class=\"sk-item\"><div class=\"sk-label-container\"><div class=\"sk-label sk-toggleable\"><input class=\"sk-toggleable__control sk-hidden--visually\" id=\"sk-estimator-id-2\" type=\"checkbox\" ><label for=\"sk-estimator-id-2\" class=\"sk-toggleable__label sk-toggleable__label-arrow\">minmaxscaler</label><div class=\"sk-toggleable__content\"><pre>[0, 1, 2, 3, 4, 5, 6, 7, 8, 9, 10, 11, 12]</pre></div></div></div><div class=\"sk-serial\"><div class=\"sk-item\"><div class=\"sk-estimator sk-toggleable\"><input class=\"sk-toggleable__control sk-hidden--visually\" id=\"sk-estimator-id-3\" type=\"checkbox\" ><label for=\"sk-estimator-id-3\" class=\"sk-toggleable__label sk-toggleable__label-arrow\">MinMaxScaler</label><div class=\"sk-toggleable__content\"><pre>MinMaxScaler()</pre></div></div></div></div></div></div></div></div></div></div>"
      ],
      "text/plain": [
       "ColumnTransformer(transformers=[('minmaxscaler', MinMaxScaler(),\n",
       "                                 [0, 1, 2, 3, 4, 5, 6, 7, 8, 9, 10, 11, 12])])"
      ]
     },
     "execution_count": 39,
     "metadata": {},
     "output_type": "execute_result"
    }
   ],
   "source": [
    "ct.fit(x_train_df)"
   ]
  },
  {
   "cell_type": "code",
   "execution_count": 40,
   "id": "6d6055b5-09b0-42ab-9172-0ddfb55bf89a",
   "metadata": {},
   "outputs": [],
   "source": [
    "x_train_normal = ct.transform(x_train_df)\n",
    "x_test_normal = ct.transform(x_test_df)"
   ]
  },
  {
   "cell_type": "code",
   "execution_count": 42,
   "id": "1c8a8fca-7eec-4f15-86b1-f87c2ec15c92",
   "metadata": {
    "scrolled": true
   },
   "outputs": [
    {
     "name": "stdout",
     "output_type": "stream",
     "text": [
      "Epoch 1/50\n",
      "13/13 [==============================] - 0s 917us/step - loss: 22.0543 - mae: 22.0543\n",
      "Epoch 2/50\n",
      "13/13 [==============================] - 0s 917us/step - loss: 20.8881 - mae: 20.8881\n",
      "Epoch 3/50\n",
      "13/13 [==============================] - 0s 833us/step - loss: 18.3099 - mae: 18.3099\n",
      "Epoch 4/50\n",
      "13/13 [==============================] - 0s 833us/step - loss: 14.1356 - mae: 14.1356\n",
      "Epoch 5/50\n",
      "13/13 [==============================] - 0s 916us/step - loss: 10.2782 - mae: 10.2782\n",
      "Epoch 6/50\n",
      "13/13 [==============================] - 0s 917us/step - loss: 8.5224 - mae: 8.5224\n",
      "Epoch 7/50\n",
      "13/13 [==============================] - 0s 917us/step - loss: 7.8418 - mae: 7.8418\n",
      "Epoch 8/50\n",
      "13/13 [==============================] - 0s 1ms/step - loss: 7.2571 - mae: 7.2571\n",
      "Epoch 9/50\n",
      "13/13 [==============================] - 0s 1000us/step - loss: 6.7221 - mae: 6.7221\n",
      "Epoch 10/50\n",
      "13/13 [==============================] - 0s 917us/step - loss: 6.2944 - mae: 6.2944\n",
      "Epoch 11/50\n",
      "13/13 [==============================] - 0s 916us/step - loss: 5.8947 - mae: 5.8947\n",
      "Epoch 12/50\n",
      "13/13 [==============================] - 0s 917us/step - loss: 5.5710 - mae: 5.5710\n",
      "Epoch 13/50\n",
      "13/13 [==============================] - 0s 917us/step - loss: 5.2951 - mae: 5.2951\n",
      "Epoch 14/50\n",
      "13/13 [==============================] - 0s 833us/step - loss: 5.0843 - mae: 5.0843\n",
      "Epoch 15/50\n",
      "13/13 [==============================] - 0s 917us/step - loss: 4.9275 - mae: 4.9275\n",
      "Epoch 16/50\n",
      "13/13 [==============================] - 0s 833us/step - loss: 4.7807 - mae: 4.7807\n",
      "Epoch 17/50\n",
      "13/13 [==============================] - 0s 917us/step - loss: 4.7053 - mae: 4.7053\n",
      "Epoch 18/50\n",
      "13/13 [==============================] - 0s 917us/step - loss: 4.6431 - mae: 4.6431\n",
      "Epoch 19/50\n",
      "13/13 [==============================] - 0s 833us/step - loss: 4.5356 - mae: 4.5356\n",
      "Epoch 20/50\n",
      "13/13 [==============================] - 0s 917us/step - loss: 4.4922 - mae: 4.4922\n",
      "Epoch 21/50\n",
      "13/13 [==============================] - 0s 917us/step - loss: 4.4302 - mae: 4.4302\n",
      "Epoch 22/50\n",
      "13/13 [==============================] - 0s 833us/step - loss: 4.3700 - mae: 4.3700\n",
      "Epoch 23/50\n",
      "13/13 [==============================] - 0s 833us/step - loss: 4.3243 - mae: 4.3243\n",
      "Epoch 24/50\n",
      "13/13 [==============================] - 0s 917us/step - loss: 4.2669 - mae: 4.2669\n",
      "Epoch 25/50\n",
      "13/13 [==============================] - 0s 917us/step - loss: 4.2062 - mae: 4.2062\n",
      "Epoch 26/50\n",
      "13/13 [==============================] - 0s 750us/step - loss: 4.1697 - mae: 4.1697\n",
      "Epoch 27/50\n",
      "13/13 [==============================] - 0s 917us/step - loss: 4.0940 - mae: 4.0940\n",
      "Epoch 28/50\n",
      "13/13 [==============================] - 0s 1ms/step - loss: 4.0612 - mae: 4.0612\n",
      "Epoch 29/50\n",
      "13/13 [==============================] - 0s 916us/step - loss: 4.0086 - mae: 4.0086\n",
      "Epoch 30/50\n",
      "13/13 [==============================] - 0s 750us/step - loss: 3.9474 - mae: 3.9474\n",
      "Epoch 31/50\n",
      "13/13 [==============================] - 0s 916us/step - loss: 3.8975 - mae: 3.8975\n",
      "Epoch 32/50\n",
      "13/13 [==============================] - 0s 917us/step - loss: 3.8420 - mae: 3.8420\n",
      "Epoch 33/50\n",
      "13/13 [==============================] - 0s 917us/step - loss: 3.7948 - mae: 3.7948\n",
      "Epoch 34/50\n",
      "13/13 [==============================] - 0s 750us/step - loss: 3.7715 - mae: 3.7715\n",
      "Epoch 35/50\n",
      "13/13 [==============================] - 0s 833us/step - loss: 3.7054 - mae: 3.7054\n",
      "Epoch 36/50\n",
      "13/13 [==============================] - 0s 917us/step - loss: 3.6583 - mae: 3.6583\n",
      "Epoch 37/50\n",
      "13/13 [==============================] - 0s 917us/step - loss: 3.6314 - mae: 3.6314\n",
      "Epoch 38/50\n",
      "13/13 [==============================] - 0s 750us/step - loss: 3.5831 - mae: 3.5831\n",
      "Epoch 39/50\n",
      "13/13 [==============================] - 0s 833us/step - loss: 3.5468 - mae: 3.5468\n",
      "Epoch 40/50\n",
      "13/13 [==============================] - 0s 833us/step - loss: 3.5145 - mae: 3.5145\n",
      "Epoch 41/50\n",
      "13/13 [==============================] - 0s 833us/step - loss: 3.4841 - mae: 3.4841\n",
      "Epoch 42/50\n",
      "13/13 [==============================] - 0s 917us/step - loss: 3.4337 - mae: 3.4337\n",
      "Epoch 43/50\n",
      "13/13 [==============================] - 0s 833us/step - loss: 3.3980 - mae: 3.3980\n",
      "Epoch 44/50\n",
      "13/13 [==============================] - 0s 917us/step - loss: 3.3619 - mae: 3.3619\n",
      "Epoch 45/50\n",
      "13/13 [==============================] - 0s 917us/step - loss: 3.3532 - mae: 3.3532\n",
      "Epoch 46/50\n",
      "13/13 [==============================] - 0s 1000us/step - loss: 3.2973 - mae: 3.2973\n",
      "Epoch 47/50\n",
      "13/13 [==============================] - 0s 1000us/step - loss: 3.2634 - mae: 3.2634\n",
      "Epoch 48/50\n",
      "13/13 [==============================] - 0s 917us/step - loss: 3.2225 - mae: 3.2225\n",
      "Epoch 49/50\n",
      "13/13 [==============================] - 0s 1000us/step - loss: 3.1865 - mae: 3.1865\n",
      "Epoch 50/50\n",
      "13/13 [==============================] - 0s 1000us/step - loss: 3.1734 - mae: 3.1734\n"
     ]
    },
    {
     "data": {
      "text/plain": [
       "<keras.src.callbacks.History at 0x2924b011660>"
      ]
     },
     "execution_count": 42,
     "metadata": {},
     "output_type": "execute_result"
    }
   ],
   "source": [
    "model_normal = tf.keras.Sequential([\n",
    "    tf.keras.layers.Dense(100, activation='relu'),\n",
    "    tf.keras.layers.Dense(10, activation='relu'),\n",
    "    tf.keras.layers.Dense(1),\n",
    "])\n",
    "model_normal.compile(\n",
    "    loss='mae',\n",
    "    optimizer='adam',\n",
    "    metrics=['mae',]\n",
    ")\n",
    "model.fit(x_train_normal, y_train, epochs = 50)"
   ]
  },
  {
   "cell_type": "code",
   "execution_count": 43,
   "id": "533f251f-91a6-40cd-804b-50cf23464241",
   "metadata": {},
   "outputs": [
    {
     "name": "stdout",
     "output_type": "stream",
     "text": [
      "4/4 [==============================] - 0s 2ms/step - loss: 3.4003 - mae: 3.4003\n"
     ]
    },
    {
     "data": {
      "text/plain": [
       "[3.4002599716186523, 3.4002599716186523]"
      ]
     },
     "execution_count": 43,
     "metadata": {},
     "output_type": "execute_result"
    }
   ],
   "source": [
    "model.evaluate(x_test_normal, y_test)"
   ]
  }
 ],
 "metadata": {
  "kernelspec": {
   "display_name": "ml_venv",
   "language": "python",
   "name": "ml_venv"
  },
  "language_info": {
   "codemirror_mode": {
    "name": "ipython",
    "version": 3
   },
   "file_extension": ".py",
   "mimetype": "text/x-python",
   "name": "python",
   "nbconvert_exporter": "python",
   "pygments_lexer": "ipython3",
   "version": "3.10.9"
  }
 },
 "nbformat": 4,
 "nbformat_minor": 5
}
