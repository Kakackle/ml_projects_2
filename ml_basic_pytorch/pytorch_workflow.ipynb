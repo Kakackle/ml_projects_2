{
 "cells": [
  {
   "cell_type": "markdown",
   "id": "87c61985-9ef4-4cdc-8332-9959cbdc3952",
   "metadata": {},
   "source": [
    "### Pytorch workflow tests"
   ]
  },
  {
   "cell_type": "code",
   "execution_count": 1,
   "id": "fdf2c8f3-10cd-4a8d-865b-f379f63db217",
   "metadata": {},
   "outputs": [
    {
     "data": {
      "text/plain": [
       "'2.1.2+cu118'"
      ]
     },
     "execution_count": 1,
     "metadata": {},
     "output_type": "execute_result"
    }
   ],
   "source": [
    "import torch\n",
    "from torch import nn\n",
    "import matplotlib.pyplot as plt\n",
    "\n",
    "torch.__version__"
   ]
  },
  {
   "cell_type": "markdown",
   "id": "daf1ff12-7de1-46a0-8d0f-6f8d132abd50",
   "metadata": {},
   "source": [
    "### Dummy regression data"
   ]
  },
  {
   "cell_type": "code",
   "execution_count": 2,
   "id": "4c716448-83e1-4272-9a9e-48642ce8814c",
   "metadata": {},
   "outputs": [],
   "source": [
    "weight = 3.2\n",
    "bias = 1.9\n",
    "\n",
    "start = 0\n",
    "end = 1\n",
    "step = 0.02\n",
    "\n",
    "X = torch.arange(start, end, step).unsqueeze(dim=1)\n",
    "y = X*weight + bias"
   ]
  },
  {
   "cell_type": "code",
   "execution_count": 3,
   "id": "abce56d2-2a29-4ddc-a88e-e4db7ae7b05a",
   "metadata": {
    "scrolled": true
   },
   "outputs": [
    {
     "data": {
      "text/plain": [
       "(tensor([[0.0000],\n",
       "         [0.0200],\n",
       "         [0.0400],\n",
       "         [0.0600],\n",
       "         [0.0800],\n",
       "         [0.1000],\n",
       "         [0.1200],\n",
       "         [0.1400],\n",
       "         [0.1600],\n",
       "         [0.1800],\n",
       "         [0.2000],\n",
       "         [0.2200],\n",
       "         [0.2400],\n",
       "         [0.2600],\n",
       "         [0.2800],\n",
       "         [0.3000],\n",
       "         [0.3200],\n",
       "         [0.3400],\n",
       "         [0.3600],\n",
       "         [0.3800],\n",
       "         [0.4000],\n",
       "         [0.4200],\n",
       "         [0.4400],\n",
       "         [0.4600],\n",
       "         [0.4800],\n",
       "         [0.5000],\n",
       "         [0.5200],\n",
       "         [0.5400],\n",
       "         [0.5600],\n",
       "         [0.5800],\n",
       "         [0.6000],\n",
       "         [0.6200],\n",
       "         [0.6400],\n",
       "         [0.6600],\n",
       "         [0.6800],\n",
       "         [0.7000],\n",
       "         [0.7200],\n",
       "         [0.7400],\n",
       "         [0.7600],\n",
       "         [0.7800],\n",
       "         [0.8000],\n",
       "         [0.8200],\n",
       "         [0.8400],\n",
       "         [0.8600],\n",
       "         [0.8800],\n",
       "         [0.9000],\n",
       "         [0.9200],\n",
       "         [0.9400],\n",
       "         [0.9600],\n",
       "         [0.9800]]),\n",
       " tensor([[1.9000],\n",
       "         [1.9640],\n",
       "         [2.0280],\n",
       "         [2.0920],\n",
       "         [2.1560],\n",
       "         [2.2200],\n",
       "         [2.2840],\n",
       "         [2.3480],\n",
       "         [2.4120],\n",
       "         [2.4760],\n",
       "         [2.5400],\n",
       "         [2.6040],\n",
       "         [2.6680],\n",
       "         [2.7320],\n",
       "         [2.7960],\n",
       "         [2.8600],\n",
       "         [2.9240],\n",
       "         [2.9880],\n",
       "         [3.0520],\n",
       "         [3.1160],\n",
       "         [3.1800],\n",
       "         [3.2440],\n",
       "         [3.3080],\n",
       "         [3.3720],\n",
       "         [3.4360],\n",
       "         [3.5000],\n",
       "         [3.5640],\n",
       "         [3.6280],\n",
       "         [3.6920],\n",
       "         [3.7560],\n",
       "         [3.8200],\n",
       "         [3.8840],\n",
       "         [3.9480],\n",
       "         [4.0120],\n",
       "         [4.0760],\n",
       "         [4.1400],\n",
       "         [4.2040],\n",
       "         [4.2680],\n",
       "         [4.3320],\n",
       "         [4.3960],\n",
       "         [4.4600],\n",
       "         [4.5240],\n",
       "         [4.5880],\n",
       "         [4.6520],\n",
       "         [4.7160],\n",
       "         [4.7800],\n",
       "         [4.8440],\n",
       "         [4.9080],\n",
       "         [4.9720],\n",
       "         [5.0360]]))"
      ]
     },
     "execution_count": 3,
     "metadata": {},
     "output_type": "execute_result"
    }
   ],
   "source": [
    "X, y"
   ]
  },
  {
   "cell_type": "code",
   "execution_count": 4,
   "id": "ce579b7d-9f06-4817-b38b-17f29ce27377",
   "metadata": {},
   "outputs": [],
   "source": [
    "train_split = int(0.8 * len(X))\n",
    "X_train, y_train = X[:train_split], y[:train_split]\n",
    "X_test, y_test = X[train_split:], y[train_split:]"
   ]
  },
  {
   "cell_type": "code",
   "execution_count": 5,
   "id": "40a425cf-69ac-45b2-ad62-ca597c05858b",
   "metadata": {},
   "outputs": [
    {
     "data": {
      "text/plain": [
       "(40, 10)"
      ]
     },
     "execution_count": 5,
     "metadata": {},
     "output_type": "execute_result"
    }
   ],
   "source": [
    "len(X_train), len(y_test)"
   ]
  },
  {
   "cell_type": "code",
   "execution_count": 6,
   "id": "1804ac03-0d47-44ba-a557-4155f4332dc1",
   "metadata": {},
   "outputs": [],
   "source": [
    "def plot_data(train_data, train_y, test_data, test_y, preds=None):\n",
    "    plt.figure(figsize=(10,7))\n",
    "    \n",
    "    plt.scatter(train_data, train_y, c=\"b\", s=4, label=\"Training data\")\n",
    "    plt.scatter(test_data, test_y, c=\"r\", s=4, label=\"Test data\")\n",
    "    if preds is not None:\n",
    "        plt.scatter(test_data, preds, c=\"g\", s=4, label=\"Preds\")\n",
    "    plt.legend()"
   ]
  },
  {
   "cell_type": "code",
   "execution_count": 7,
   "id": "60c6ae71-7a05-4018-af58-42936003d30d",
   "metadata": {},
   "outputs": [
    {
     "data": {
      "image/png": "[encoded data removed]",
      "text/plain": [
       "<Figure size 1000x700 with 1 Axes>"
      ]
     },
     "metadata": {},
     "output_type": "display_data"
    }
   ],
   "source": [
    "plot_data(X_train, y_train, X_test, y_test)"
   ]
  },
  {
   "cell_type": "markdown",
   "id": "f631a5f9-442f-4adf-85eb-2671a17a9001",
   "metadata": {},
   "source": [
    "### Linear regression model\n",
    "pytorch works using classes, usually inheriting from the torch.nn.Module class"
   ]
  },
  {
   "cell_type": "code",
   "execution_count": 8,
   "id": "f276b0d0-6fd9-4c67-9084-cdf9f55b81db",
   "metadata": {},
   "outputs": [],
   "source": [
    "class LinearRegressionModel(nn.Module):\n",
    "    def __init__(self):\n",
    "        super().__init__()\n",
    "        self.weights = nn.Parameter(torch.randn(1,\n",
    "                                                requires_grad=True,\n",
    "                                                dtype=torch.float))\n",
    "        self.bias = nn.Parameter(torch.randn(1,\n",
    "                                            requires_grad=True,\n",
    "                                            dtype=torch.float))\n",
    "    # forward computation model in the model\n",
    "    def forward(self, x: torch.Tensor) -> torch.Tensor:\n",
    "        return self.weights * x + self.bias # a linear regression problem / function\n",
    "        "
   ]
  },
  {
   "cell_type": "code",
   "execution_count": 9,
   "id": "c8d51a87-5fe1-4938-bbbe-a914a58e434c",
   "metadata": {},
   "outputs": [],
   "source": [
    "model_0 = LinearRegressionModel()"
   ]
  },
  {
   "cell_type": "code",
   "execution_count": 10,
   "id": "0ffc5b23-7b83-47d6-b1aa-80cdc8bc70e5",
   "metadata": {},
   "outputs": [
    {
     "data": {
      "text/plain": [
       "OrderedDict([('weights', tensor([-1.5694])), ('bias', tensor([-0.7134]))])"
      ]
     },
     "execution_count": 10,
     "metadata": {},
     "output_type": "execute_result"
    }
   ],
   "source": [
    "# list(model_0.parameters())\n",
    "model_0.state_dict()"
   ]
  },
  {
   "cell_type": "markdown",
   "id": "53968d4f-b97d-4794-b4a9-c5aa1f1070b8",
   "metadata": {},
   "source": [
    "#### Make predictions using torch.inference_mode()\n",
    "to do that the model will pass the inputs through it's forward method"
   ]
  },
  {
   "cell_type": "code",
   "execution_count": 11,
   "id": "e5084dbc-d09f-4cb1-adbc-df3285f6a3c0",
   "metadata": {},
   "outputs": [
    {
     "data": {
      "text/plain": [
       "tensor([[-1.9689],\n",
       "        [-2.0003],\n",
       "        [-2.0317],\n",
       "        [-2.0631],\n",
       "        [-2.0945],\n",
       "        [-2.1259],\n",
       "        [-2.1572],\n",
       "        [-2.1886],\n",
       "        [-2.2200],\n",
       "        [-2.2514]])"
      ]
     },
     "execution_count": 11,
     "metadata": {},
     "output_type": "execute_result"
    }
   ],
   "source": [
    "with torch.inference_mode():\n",
    "    init_preds = model_0(X_test)\n",
    "init_preds"
   ]
  },
  {
   "cell_type": "code",
   "execution_count": 12,
   "id": "47f4114b-be55-4e3c-8db8-9e04a5b1da2c",
   "metadata": {},
   "outputs": [
    {
     "data": {
      "image/png": "[encoded data removed]",
      "text/plain": [
       "<Figure size 1000x700 with 1 Axes>"
      ]
     },
     "metadata": {},
     "output_type": "display_data"
    }
   ],
   "source": [
    "plot_data(X_train, y_train, X_test, y_test, preds = init_preds)"
   ]
  },
  {
   "cell_type": "markdown",
   "id": "e0e0c44b-fce9-4ee1-8664-33f4a27b0dc1",
   "metadata": {},
   "source": [
    "#### Losses and optimizers"
   ]
  },
  {
   "cell_type": "code",
   "execution_count": 13,
   "id": "c2b42b8f-3804-4a5b-9c2f-89e132f447fe",
   "metadata": {},
   "outputs": [],
   "source": [
    "loss_fn = nn.L1Loss()\n",
    "optimizer = torch.optim.SGD(model_0.parameters(),\n",
    "                           lr=0.1)"
   ]
  },
  {
   "cell_type": "markdown",
   "id": "a0b2c274-a53b-4d87-ab1d-a5eaa0c232eb",
   "metadata": {},
   "source": [
    "#### Training loop"
   ]
  },
  {
   "cell_type": "code",
   "execution_count": 14,
   "id": "69cc4f80-0fd2-48e1-acab-ad32387f6460",
   "metadata": {
    "scrolled": true
   },
   "outputs": [
    {
     "name": "stdout",
     "output_type": "stream",
     "text": [
      "Epoch: 0, loss: 4.4734625816345215, test_loss: 6.723448276519775\n",
      "Epoch: 10, loss: 3.321362257003784, test_loss: 5.37634801864624\n",
      "Epoch: 20, loss: 2.169262170791626, test_loss: 4.029248237609863\n",
      "Epoch: 30, loss: 1.1119482517242432, test_loss: 2.753927707672119\n",
      "Epoch: 40, loss: 0.7113434672355652, test_loss: 1.967484712600708\n",
      "Epoch: 50, loss: 0.6019226908683777, test_loss: 1.566351294517517\n",
      "Epoch: 60, loss: 0.5548982620239258, test_loss: 1.354895830154419\n",
      "Epoch: 70, loss: 0.5191184282302856, test_loss: 1.2379167079925537\n",
      "Epoch: 80, loss: 0.48421841859817505, test_loss: 1.1277177333831787\n",
      "Epoch: 90, loss: 0.44980964064598083, test_loss: 1.0449943542480469\n",
      "Epoch: 100, loss: 0.4154422879219055, test_loss: 0.9622709155082703\n",
      "Epoch: 110, loss: 0.38107460737228394, test_loss: 0.8864163160324097\n",
      "Epoch: 120, loss: 0.3467901349067688, test_loss: 0.8036929965019226\n",
      "Epoch: 130, loss: 0.31240615248680115, test_loss: 0.7209694981575012\n",
      "Epoch: 140, loss: 0.2780551016330719, test_loss: 0.6451148390769958\n",
      "Epoch: 150, loss: 0.24375805258750916, test_loss: 0.5623915791511536\n",
      "Epoch: 160, loss: 0.2093702107667923, test_loss: 0.4796692430973053\n",
      "Epoch: 170, loss: 0.17503595352172852, test_loss: 0.40381568670272827\n",
      "Epoch: 180, loss: 0.1407225877046585, test_loss: 0.32109323143959045\n",
      "Epoch: 190, loss: 0.10633472353219986, test_loss: 0.2383708506822586\n"
     ]
    }
   ],
   "source": [
    "epochs = 200\n",
    "\n",
    "# track stats from experiments\n",
    "epoch_count = []\n",
    "loss_values = []\n",
    "test_loss_values = []\n",
    "\n",
    "# loop through the data\n",
    "for epoch in range(epochs):\n",
    "    # turns on gradient tracking\n",
    "    model_0.train()\n",
    "\n",
    "    # forward pass\n",
    "    y_pred = model_0(X_train)\n",
    "\n",
    "    # calc loss\n",
    "    loss = loss_fn(y_pred, y_train)\n",
    "    # print(loss)\n",
    "\n",
    "    # optimizer zero grad\n",
    "    # ? because optimizers accumulate\n",
    "    optimizer.zero_grad()\n",
    "\n",
    "    # loss backwards / backpropagation\n",
    "    loss.backward()\n",
    "\n",
    "    # optimizer step (perform gradient descent)\n",
    "    optimizer.step()\n",
    "\n",
    "    ### testing\n",
    "    # turns off gradient tracking\n",
    "    model_0.eval()\n",
    "\n",
    "    # forward pass\n",
    "    test_pred = model_0(X_test)\n",
    "    test_loss = loss_fn(test_pred, y_test)\n",
    "\n",
    "    if epoch % 10 == 0:\n",
    "        epoch_count.append(epoch)\n",
    "        loss_values.append(loss)\n",
    "        test_loss_values.append(test_loss)\n",
    "        print(f\"Epoch: {epoch}, loss: {loss}, test_loss: {test_loss}\")\n",
    "    "
   ]
  },
  {
   "cell_type": "code",
   "execution_count": 15,
   "id": "78989307-2607-4c9a-a9b2-3ee49bd51d43",
   "metadata": {},
   "outputs": [
    {
     "data": {
      "text/plain": [
       "OrderedDict([('weights', tensor([2.8424])), ('bias', tensor([2.0516]))])"
      ]
     },
     "execution_count": 15,
     "metadata": {},
     "output_type": "execute_result"
    }
   ],
   "source": [
    "model_0.state_dict()"
   ]
  },
  {
   "cell_type": "code",
   "execution_count": 16,
   "id": "d632e03e-6473-4eba-aa1b-5198bfe68bf4",
   "metadata": {},
   "outputs": [
    {
     "data": {
      "text/plain": [
       "tensor([[4.3255],\n",
       "        [4.3824],\n",
       "        [4.4392],\n",
       "        [4.4961],\n",
       "        [4.5529],\n",
       "        [4.6098],\n",
       "        [4.6666],\n",
       "        [4.7235],\n",
       "        [4.7803],\n",
       "        [4.8371]])"
      ]
     },
     "execution_count": 16,
     "metadata": {},
     "output_type": "execute_result"
    }
   ],
   "source": [
    "with torch.inference_mode():\n",
    "    init_preds = model_0(X_test)\n",
    "init_preds"
   ]
  },
  {
   "cell_type": "code",
   "execution_count": 17,
   "id": "3e6fb6d4-5c22-4b97-bae4-6e81bc53712b",
   "metadata": {},
   "outputs": [
    {
     "data": {
      "image/png": "[encoded data removed]",
      "text/plain": [
       "<Figure size 1000x700 with 1 Axes>"
      ]
     },
     "metadata": {},
     "output_type": "display_data"
    }
   ],
   "source": [
    "plot_data(X_train, y_train, X_test, y_test, preds = init_preds)"
   ]
  },
  {
   "cell_type": "code",
   "execution_count": 22,
   "id": "bae7332d-0836-4be4-b2d0-d69b9c4cd35a",
   "metadata": {},
   "outputs": [],
   "source": [
    "import numpy as np\n",
    "loss_values = np.array(torch.tensor(loss_values).numpy())\n",
    "test_loss_values = np.array(torch.tensor(test_loss_values).numpy())"
   ]
  },
  {
   "cell_type": "code",
   "execution_count": 23,
   "id": "9932fae7-7874-4915-9767-fff59c9e24e3",
   "metadata": {},
   "outputs": [
    {
     "data": {
      "text/plain": [
       "<matplotlib.legend.Legend at 0x289ff312bc0>"
      ]
     },
     "execution_count": 23,
     "metadata": {},
     "output_type": "execute_result"
    },
    {
     "data": {
      "image/png": "[encoded data removed]",
      "text/plain": [
       "<Figure size 1000x700 with 1 Axes>"
      ]
     },
     "metadata": {},
     "output_type": "display_data"
    }
   ],
   "source": [
    "plt.figure(figsize=(10,7))\n",
    "plt.plot(epoch_count, loss_values, label=\"Train loss\")\n",
    "plt.plot(epoch_count, test_loss_values, label=\"Test loss\")\n",
    "plt.legend()"
   ]
  },
  {
   "cell_type": "markdown",
   "id": "332d7703-289a-4fe9-8db0-438d1dca4862",
   "metadata": {},
   "source": [
    "#### Saving a model\n",
    "could be done by just saving it's state dict (weights, biases etc)"
   ]
  },
  {
   "cell_type": "code",
   "execution_count": 25,
   "id": "1e84d469-7b37-474f-a276-c674e405b474",
   "metadata": {},
   "outputs": [
    {
     "data": {
      "text/plain": [
       "'./models/01_pytorch_workflow_model_0.pth'"
      ]
     },
     "execution_count": 25,
     "metadata": {},
     "output_type": "execute_result"
    }
   ],
   "source": [
    "MODEL_PATH = './models/'\n",
    "MODEL_NAME = '01_pytorch_workflow_model_0.pth'\n",
    "\n",
    "MODEL_SAVE_PATH = MODEL_PATH + MODEL_NAME\n",
    "MODEL_SAVE_PATH"
   ]
  },
  {
   "cell_type": "code",
   "execution_count": 26,
   "id": "4f9b1cbd-dd0c-4a47-9205-141c37062f47",
   "metadata": {},
   "outputs": [],
   "source": [
    "torch.save(model_0.state_dict(), MODEL_SAVE_PATH)"
   ]
  },
  {
   "cell_type": "markdown",
   "id": "51a16ef6-ae3e-4667-a699-b13666cd7f48",
   "metadata": {},
   "source": [
    "#### But if you save only the state_dict, you will need to create a new model instance of the same structure before loading in the state dict"
   ]
  },
  {
   "cell_type": "code",
   "execution_count": 29,
   "id": "2e8767ca-dedc-4866-a365-28c07122c304",
   "metadata": {},
   "outputs": [
    {
     "data": {
      "text/plain": [
       "OrderedDict([('weights', tensor([2.8424])), ('bias', tensor([2.0516]))])"
      ]
     },
     "execution_count": 29,
     "metadata": {},
     "output_type": "execute_result"
    }
   ],
   "source": [
    "loaded_model_0 = LinearRegressionModel()\n",
    "loaded_model_0.load_state_dict(torch.load(f=MODEL_SAVE_PATH))\n",
    "loaded_model_0.state_dict()"
   ]
  },
  {
   "cell_type": "code",
   "execution_count": 31,
   "id": "a5fade59-1618-4c33-b53c-49cb1b3641ed",
   "metadata": {},
   "outputs": [
    {
     "data": {
      "image/png": "[encoded data removed]",
      "text/plain": [
       "<Figure size 1000x700 with 1 Axes>"
      ]
     },
     "metadata": {},
     "output_type": "display_data"
    }
   ],
   "source": [
    "loaded_model_0.eval()\n",
    "with torch.inference_mode():\n",
    "    loaded_model_preds = loaded_model_0(X_test)\n",
    "plot_data(X_train, y_train, X_test, y_test, loaded_model_preds)"
   ]
  }
 ],
 "metadata": {
  "kernelspec": {
   "display_name": "ml_basic_pytorch",
   "language": "python",
   "name": "ml_basic_pytorch"
  },
  "language_info": {
   "codemirror_mode": {
    "name": "ipython",
    "version": 3
   },
   "file_extension": ".py",
   "mimetype": "text/x-python",
   "name": "python",
   "nbconvert_exporter": "python",
   "pygments_lexer": "ipython3",
   "version": "3.10.9"
  }
 },
 "nbformat": 4,
 "nbformat_minor": 5
}
