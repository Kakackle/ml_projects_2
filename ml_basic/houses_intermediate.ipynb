{
 "cells": [
  {
   "cell_type": "code",
   "execution_count": 5,
   "id": "7993d6c1-4752-4afd-b07a-526a37f033f0",
   "metadata": {},
   "outputs": [],
   "source": [
    "import pandas as pd\n",
    "from sklearn.model_selection import train_test_split"
   ]
  },
  {
   "cell_type": "code",
   "execution_count": 2,
   "id": "514ee102-b2fa-4be4-b660-939fb5b9d4ae",
   "metadata": {},
   "outputs": [],
   "source": [
    "houses_path = './datasets/houses_intermediate/'"
   ]
  },
  {
   "cell_type": "code",
   "execution_count": 6,
   "id": "260b808a-dda7-48a8-85a2-5a258b667fb6",
   "metadata": {},
   "outputs": [],
   "source": [
    "train_data = pd.read_csv(houses_path + 'train.csv')\n",
    "test_data = pd.read_csv(houses_path + 'test.csv')\n",
    "data = pd.concat([train_data, test_data])"
   ]
  },
  {
   "cell_type": "code",
   "execution_count": 7,
   "id": "9bffcfa2-8598-4c8f-b10a-16d87905c0b9",
   "metadata": {},
   "outputs": [
    {
     "name": "stdout",
     "output_type": "stream",
     "text": [
      "(1460, 81)\n",
      "(1459, 80)\n",
      "(2919, 81)\n"
     ]
    }
   ],
   "source": [
    "print(train_data.shape)\n",
    "print(test_data.shape)\n",
    "print(data.shape)"
   ]
  },
  {
   "cell_type": "code",
   "execution_count": null,
   "id": "3d962eb9-c1e1-4831-8cbd-277337400cab",
   "metadata": {},
   "outputs": [],
   "source": []
  }
 ],
 "metadata": {
  "kernelspec": {
   "display_name": "ml_venv",
   "language": "python",
   "name": "ml_venv"
  },
  "language_info": {
   "codemirror_mode": {
    "name": "ipython",
    "version": 3
   },
   "file_extension": ".py",
   "mimetype": "text/x-python",
   "name": "python",
   "nbconvert_exporter": "python",
   "pygments_lexer": "ipython3",
   "version": "3.10.9"
  }
 },
 "nbformat": 4,
 "nbformat_minor": 5
}
