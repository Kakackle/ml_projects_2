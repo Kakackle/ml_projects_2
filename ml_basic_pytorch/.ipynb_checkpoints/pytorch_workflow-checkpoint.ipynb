{
 "cells": [
  {
   "cell_type": "markdown",
   "id": "87c61985-9ef4-4cdc-8332-9959cbdc3952",
   "metadata": {},
   "source": [
    "### Pytorch workflow tests"
   ]
  },
  {
   "cell_type": "code",
   "execution_count": 1,
   "id": "fdf2c8f3-10cd-4a8d-865b-f379f63db217",
   "metadata": {},
   "outputs": [
    {
     "data": {
      "text/plain": [
       "'2.1.2+cu118'"
      ]
     },
     "execution_count": 1,
     "metadata": {},
     "output_type": "execute_result"
    }
   ],
   "source": [
    "import torch\n",
    "from torch import nn\n",
    "import matplotlib.pyplot as plt\n",
    "\n",
    "torch.__version__"
   ]
  },
  {
   "cell_type": "markdown",
   "id": "daf1ff12-7de1-46a0-8d0f-6f8d132abd50",
   "metadata": {},
   "source": [
    "### Dummy regression data"
   ]
  },
  {
   "cell_type": "code",
   "execution_count": 4,
   "id": "4c716448-83e1-4272-9a9e-48642ce8814c",
   "metadata": {},
   "outputs": [],
   "source": [
    "weight = 3.2\n",
    "bias = 1.9\n",
    "\n",
    "start = 0\n",
    "end = 1\n",
    "step = 0.02\n",
    "\n",
    "X = torch.arange(start, end, step).unsqueeze(dim=1)\n",
    "y = X*weight + bias"
   ]
  },
  {
   "cell_type": "code",
   "execution_count": 5,
   "id": "abce56d2-2a29-4ddc-a88e-e4db7ae7b05a",
   "metadata": {
    "scrolled": true
   },
   "outputs": [
    {
     "data": {
      "text/plain": [
       "(tensor([[0.0000],\n",
       "         [0.0200],\n",
       "         [0.0400],\n",
       "         [0.0600],\n",
       "         [0.0800],\n",
       "         [0.1000],\n",
       "         [0.1200],\n",
       "         [0.1400],\n",
       "         [0.1600],\n",
       "         [0.1800],\n",
       "         [0.2000],\n",
       "         [0.2200],\n",
       "         [0.2400],\n",
       "         [0.2600],\n",
       "         [0.2800],\n",
       "         [0.3000],\n",
       "         [0.3200],\n",
       "         [0.3400],\n",
       "         [0.3600],\n",
       "         [0.3800],\n",
       "         [0.4000],\n",
       "         [0.4200],\n",
       "         [0.4400],\n",
       "         [0.4600],\n",
       "         [0.4800],\n",
       "         [0.5000],\n",
       "         [0.5200],\n",
       "         [0.5400],\n",
       "         [0.5600],\n",
       "         [0.5800],\n",
       "         [0.6000],\n",
       "         [0.6200],\n",
       "         [0.6400],\n",
       "         [0.6600],\n",
       "         [0.6800],\n",
       "         [0.7000],\n",
       "         [0.7200],\n",
       "         [0.7400],\n",
       "         [0.7600],\n",
       "         [0.7800],\n",
       "         [0.8000],\n",
       "         [0.8200],\n",
       "         [0.8400],\n",
       "         [0.8600],\n",
       "         [0.8800],\n",
       "         [0.9000],\n",
       "         [0.9200],\n",
       "         [0.9400],\n",
       "         [0.9600],\n",
       "         [0.9800]]),\n",
       " tensor([[1.9000],\n",
       "         [1.9640],\n",
       "         [2.0280],\n",
       "         [2.0920],\n",
       "         [2.1560],\n",
       "         [2.2200],\n",
       "         [2.2840],\n",
       "         [2.3480],\n",
       "         [2.4120],\n",
       "         [2.4760],\n",
       "         [2.5400],\n",
       "         [2.6040],\n",
       "         [2.6680],\n",
       "         [2.7320],\n",
       "         [2.7960],\n",
       "         [2.8600],\n",
       "         [2.9240],\n",
       "         [2.9880],\n",
       "         [3.0520],\n",
       "         [3.1160],\n",
       "         [3.1800],\n",
       "         [3.2440],\n",
       "         [3.3080],\n",
       "         [3.3720],\n",
       "         [3.4360],\n",
       "         [3.5000],\n",
       "         [3.5640],\n",
       "         [3.6280],\n",
       "         [3.6920],\n",
       "         [3.7560],\n",
       "         [3.8200],\n",
       "         [3.8840],\n",
       "         [3.9480],\n",
       "         [4.0120],\n",
       "         [4.0760],\n",
       "         [4.1400],\n",
       "         [4.2040],\n",
       "         [4.2680],\n",
       "         [4.3320],\n",
       "         [4.3960],\n",
       "         [4.4600],\n",
       "         [4.5240],\n",
       "         [4.5880],\n",
       "         [4.6520],\n",
       "         [4.7160],\n",
       "         [4.7800],\n",
       "         [4.8440],\n",
       "         [4.9080],\n",
       "         [4.9720],\n",
       "         [5.0360]]))"
      ]
     },
     "execution_count": 5,
     "metadata": {},
     "output_type": "execute_result"
    }
   ],
   "source": [
    "X, y"
   ]
  },
  {
   "cell_type": "code",
   "execution_count": 7,
   "id": "ce579b7d-9f06-4817-b38b-17f29ce27377",
   "metadata": {},
   "outputs": [],
   "source": [
    "train_split = int(0.8 * len(X))\n",
    "X_train, y_train = X[:train_split], y[:train_split]\n",
    "X_test, y_test = X[train_split:], y[train_split:]"
   ]
  },
  {
   "cell_type": "code",
   "execution_count": 8,
   "id": "40a425cf-69ac-45b2-ad62-ca597c05858b",
   "metadata": {},
   "outputs": [
    {
     "data": {
      "text/plain": [
       "(40, 10)"
      ]
     },
     "execution_count": 8,
     "metadata": {},
     "output_type": "execute_result"
    }
   ],
   "source": [
    "len(X_train), len(y_test)"
   ]
  },
  {
   "cell_type": "code",
   "execution_count": 40,
   "id": "1804ac03-0d47-44ba-a557-4155f4332dc1",
   "metadata": {},
   "outputs": [],
   "source": [
    "def plot_data(train_data, train_y, test_data, test_y, preds=None):\n",
    "    plt.figure(figsize=(10,7))\n",
    "    \n",
    "    plt.scatter(train_data, train_y, c=\"b\", s=4, label=\"Training data\")\n",
    "    plt.scatter(test_data, test_y, c=\"r\", s=4, label=\"Test data\")\n",
    "    if preds is not None:\n",
    "        plt.scatter(test_data, preds, c=\"g\", s=4, label=\"Preds\")\n",
    "    plt.legend()"
   ]
  },
  {
   "cell_type": "code",
   "execution_count": 16,
   "id": "60c6ae71-7a05-4018-af58-42936003d30d",
   "metadata": {},
   "outputs": [
    {
     "data": {
      "image/png": "[encoded data removed]",
      "text/plain": [
       "<Figure size 1000x700 with 1 Axes>"
      ]
     },
     "metadata": {},
     "output_type": "display_data"
    }
   ],
   "source": [
    "plot_data(X_train, y_train, X_test, y_test)"
   ]
  },
  {
   "cell_type": "markdown",
   "id": "f631a5f9-442f-4adf-85eb-2671a17a9001",
   "metadata": {},
   "source": [
    "### Linear regression model\n",
    "pytorch works using classes, usually inheriting from the torch.nn.Module class"
   ]
  },
  {
   "cell_type": "code",
   "execution_count": 31,
   "id": "f276b0d0-6fd9-4c67-9084-cdf9f55b81db",
   "metadata": {},
   "outputs": [],
   "source": [
    "class LinearRegressionModel(nn.Module):\n",
    "    def __init__(self):\n",
    "        super().__init__()\n",
    "        self.weights = nn.Parameter(torch.randn(1,\n",
    "                                                requires_grad=True,\n",
    "                                                dtype=torch.float))\n",
    "        self.bias = nn.Parameter(torch.randn(1,\n",
    "                                            requires_grad=True,\n",
    "                                            dtype=torch.float))\n",
    "    # forward computation model in the model\n",
    "    def forward(self, x: torch.Tensor) -> torch.Tensor:\n",
    "        return self.weights * x + self.bias # a linear regression problem / function\n",
    "        "
   ]
  },
  {
   "cell_type": "code",
   "execution_count": 32,
   "id": "c8d51a87-5fe1-4938-bbbe-a914a58e434c",
   "metadata": {},
   "outputs": [],
   "source": [
    "model_0 = LinearRegressionModel()"
   ]
  },
  {
   "cell_type": "code",
   "execution_count": 26,
   "id": "0ffc5b23-7b83-47d6-b1aa-80cdc8bc70e5",
   "metadata": {},
   "outputs": [
    {
     "data": {
      "text/plain": [
       "OrderedDict([('weights', tensor([-0.2067])), ('bias', tensor([-1.1840]))])"
      ]
     },
     "execution_count": 26,
     "metadata": {},
     "output_type": "execute_result"
    }
   ],
   "source": [
    "# list(model_0.parameters())\n",
    "model_0.state_dict()"
   ]
  },
  {
   "cell_type": "markdown",
   "id": "53968d4f-b97d-4794-b4a9-c5aa1f1070b8",
   "metadata": {},
   "source": [
    "#### Make predictions using torch.inference_mode()\n",
    "to do that the model will pass the inputs through it's forward method"
   ]
  },
  {
   "cell_type": "code",
   "execution_count": 38,
   "id": "e5084dbc-d09f-4cb1-adbc-df3285f6a3c0",
   "metadata": {},
   "outputs": [
    {
     "data": {
      "text/plain": [
       "tensor([[-0.0660],\n",
       "        [-0.0864],\n",
       "        [-0.1068],\n",
       "        [-0.1273],\n",
       "        [-0.1477],\n",
       "        [-0.1682],\n",
       "        [-0.1886],\n",
       "        [-0.2090],\n",
       "        [-0.2295],\n",
       "        [-0.2499]])"
      ]
     },
     "execution_count": 38,
     "metadata": {},
     "output_type": "execute_result"
    }
   ],
   "source": [
    "with torch.inference_mode():\n",
    "    init_preds = model_0(X_test)\n",
    "init_preds"
   ]
  },
  {
   "cell_type": "code",
   "execution_count": 41,
   "id": "47f4114b-be55-4e3c-8db8-9e04a5b1da2c",
   "metadata": {},
   "outputs": [
    {
     "data": {
      "image/png": "[encoded data removed]",
      "text/plain": [
       "<Figure size 1000x700 with 1 Axes>"
      ]
     },
     "metadata": {},
     "output_type": "display_data"
    }
   ],
   "source": [
    "plot_data(X_train, y_train, X_test, y_test, preds = init_preds)"
   ]
  },
  {
   "cell_type": "markdown",
   "id": "e0e0c44b-fce9-4ee1-8664-33f4a27b0dc1",
   "metadata": {},
   "source": [
    "#### Losses and optimizers"
   ]
  },
  {
   "cell_type": "code",
   "execution_count": 45,
   "id": "c2b42b8f-3804-4a5b-9c2f-89e132f447fe",
   "metadata": {},
   "outputs": [],
   "source": [
    "loss_fn = nn.L1Loss()\n",
    "optimizer = torch.optim.SGD(model_0.parameters(),\n",
    "                           lr=0.01)"
   ]
  },
  {
   "cell_type": "markdown",
   "id": "a0b2c274-a53b-4d87-ab1d-a5eaa0c232eb",
   "metadata": {},
   "source": [
    "#### Training loop"
   ]
  },
  {
   "cell_type": "code",
   "execution_count": 74,
   "id": "69cc4f80-0fd2-48e1-acab-ad32387f6460",
   "metadata": {},
   "outputs": [],
   "source": [
    "epochs = 200\n",
    "\n",
    "# loop through the data\n",
    "for epoch in range(epochs):\n",
    "    # turns on gradient tracking\n",
    "    model_0.train()\n",
    "\n",
    "    # forward pass\n",
    "    y_pred = model_0(X_train)\n",
    "\n",
    "    # calc loss\n",
    "    loss = loss_fn(y_pred, y_train)\n",
    "    # print(loss)\n",
    "\n",
    "    # optimizer zero grad\n",
    "    # ? because optimizers accumulate\n",
    "    optimizer.zero_grad()\n",
    "\n",
    "    # loss backwards / backpropagation\n",
    "    loss.backward()\n",
    "\n",
    "    # optimizer step (perform gradient descent)\n",
    "    optimizer.step()\n",
    "\n",
    "    ### testing\n",
    "    # turns off gradient tracking\n",
    "    model_0.eval()\n",
    "\n",
    "    # forward pass\n",
    "    test_pred = model_0(X_test)\n",
    "    test_loss = loss_fn(test_pred, y_test)\n",
    "\n",
    "    if epoch % 10 == 0:\n",
    "        print(f\"Epoch: {epoch}, loss: {loss}, test_loss: {test_loss}\")\n",
    "    "
   ]
  },
  {
   "cell_type": "code",
   "execution_count": 71,
   "id": "78989307-2607-4c9a-a9b2-3ee49bd51d43",
   "metadata": {},
   "outputs": [
    {
     "data": {
      "text/plain": [
       "OrderedDict([('weights', tensor([0.5945])), ('bias', tensor([2.9577]))])"
      ]
     },
     "execution_count": 71,
     "metadata": {},
     "output_type": "execute_result"
    }
   ],
   "source": [
    "model_0.state_dict()"
   ]
  },
  {
   "cell_type": "code",
   "execution_count": 72,
   "id": "d632e03e-6473-4eba-aa1b-5198bfe68bf4",
   "metadata": {},
   "outputs": [
    {
     "data": {
      "text/plain": [
       "tensor([[3.4333],\n",
       "        [3.4452],\n",
       "        [3.4570],\n",
       "        [3.4689],\n",
       "        [3.4808],\n",
       "        [3.4927],\n",
       "        [3.5046],\n",
       "        [3.5165],\n",
       "        [3.5284],\n",
       "        [3.5403]])"
      ]
     },
     "execution_count": 72,
     "metadata": {},
     "output_type": "execute_result"
    }
   ],
   "source": [
    "with torch.inference_mode():\n",
    "    init_preds = model_0(X_test)\n",
    "init_preds"
   ]
  },
  {
   "cell_type": "code",
   "execution_count": 73,
   "id": "3e6fb6d4-5c22-4b97-bae4-6e81bc53712b",
   "metadata": {},
   "outputs": [
    {
     "data": {
      "image/png": "[encoded data removed]",
      "text/plain": [
       "<Figure size 1000x700 with 1 Axes>"
      ]
     },
     "metadata": {},
     "output_type": "display_data"
    }
   ],
   "source": [
    "plot_data(X_train, y_train, X_test, y_test, preds = init_preds)"
   ]
  }
 ],
 "metadata": {
  "kernelspec": {
   "display_name": "ml_basic_pytorch",
   "language": "python",
   "name": "ml_basic_pytorch"
  },
  "language_info": {
   "codemirror_mode": {
    "name": "ipython",
    "version": 3
   },
   "file_extension": ".py",
   "mimetype": "text/x-python",
   "name": "python",
   "nbconvert_exporter": "python",
   "pygments_lexer": "ipython3",
   "version": "3.10.9"
  }
 },
 "nbformat": 4,
 "nbformat_minor": 5
}
