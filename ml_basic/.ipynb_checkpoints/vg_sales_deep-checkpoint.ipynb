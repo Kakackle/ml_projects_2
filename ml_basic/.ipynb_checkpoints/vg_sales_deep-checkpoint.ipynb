{
 "cells": [
  {
   "cell_type": "markdown",
   "id": "dd81b627-375d-48d2-8c25-0b3f6e6d90e5",
   "metadata": {},
   "source": [
    "### Data transformation and playing with parameters on vg sales dataset and basic deep learning"
   ]
  },
  {
   "cell_type": "code",
   "execution_count": 1,
   "id": "5353db69-13e9-4ab2-9031-404c02866038",
   "metadata": {},
   "outputs": [
    {
     "name": "stdout",
     "output_type": "stream",
     "text": [
      "WARNING:tensorflow:From C:\\Users\\User\\Desktop\\programowanie_web_etc\\python_projects\\ml_projects\\ml_basic\\venv\\lib\\site-packages\\keras\\src\\losses.py:2976: The name tf.losses.sparse_softmax_cross_entropy is deprecated. Please use tf.compat.v1.losses.sparse_softmax_cross_entropy instead.\n",
      "\n"
     ]
    }
   ],
   "source": [
    "import tensorflow as tf\n",
    "from tensorflow import keras\n",
    "from tensorflow.keras import layers\n",
    "import matplotlib.pyplot as plt\n",
    "import pandas as pd\n",
    "from sklearn.model_selection import train_test_split"
   ]
  },
  {
   "cell_type": "code",
   "execution_count": 2,
   "id": "a753f1bc-b1d9-4852-839a-3288bccc13b8",
   "metadata": {},
   "outputs": [],
   "source": [
    "import numpy as np\n",
    "from sklearn.preprocessing import StandardScaler, OneHotEncoder\n",
    "from sklearn.compose import make_column_transformer, make_column_selector\n",
    "from sklearn.model_selection import train_test_split"
   ]
  },
  {
   "cell_type": "code",
   "execution_count": 15,
   "id": "56325f4b-c8af-4785-9576-f82313e30638",
   "metadata": {},
   "outputs": [],
   "source": [
    "vg_sales = pd.read_csv('./cleaned_datasets/vg_sales_nonempty.csv', index_col=0)"
   ]
  },
  {
   "cell_type": "code",
   "execution_count": 19,
   "id": "56bafd9f-d40a-47c5-9f61-7893b35f22cc",
   "metadata": {},
   "outputs": [
    {
     "data": {
      "text/html": [
       "<div>\n",
       "<style scoped>\n",
       "    .dataframe tbody tr th:only-of-type {\n",
       "        vertical-align: middle;\n",
       "    }\n",
       "\n",
       "    .dataframe tbody tr th {\n",
       "        vertical-align: top;\n",
       "    }\n",
       "\n",
       "    .dataframe thead th {\n",
       "        text-align: right;\n",
       "    }\n",
       "</style>\n",
       "<table border=\"1\" class=\"dataframe\">\n",
       "  <thead>\n",
       "    <tr style=\"text-align: right;\">\n",
       "      <th></th>\n",
       "      <th>Genre</th>\n",
       "      <th>ESRB_Rating</th>\n",
       "      <th>Platform</th>\n",
       "      <th>Publisher</th>\n",
       "      <th>Developer</th>\n",
       "      <th>Critic_Score</th>\n",
       "      <th>Global_Sales</th>\n",
       "    </tr>\n",
       "    <tr>\n",
       "      <th>Rank</th>\n",
       "      <th></th>\n",
       "      <th></th>\n",
       "      <th></th>\n",
       "      <th></th>\n",
       "      <th></th>\n",
       "      <th></th>\n",
       "      <th></th>\n",
       "    </tr>\n",
       "  </thead>\n",
       "  <tbody>\n",
       "    <tr>\n",
       "      <th>20</th>\n",
       "      <td>Action</td>\n",
       "      <td>M</td>\n",
       "      <td>PS3</td>\n",
       "      <td>Rockstar Games</td>\n",
       "      <td>Rockstar North</td>\n",
       "      <td>9.4</td>\n",
       "      <td>17.21</td>\n",
       "    </tr>\n",
       "    <tr>\n",
       "      <th>21</th>\n",
       "      <td>Action</td>\n",
       "      <td>M</td>\n",
       "      <td>PS4</td>\n",
       "      <td>Rockstar Games</td>\n",
       "      <td>Rockstar North</td>\n",
       "      <td>9.7</td>\n",
       "      <td>16.37</td>\n",
       "    </tr>\n",
       "    <tr>\n",
       "      <th>31</th>\n",
       "      <td>Action</td>\n",
       "      <td>M</td>\n",
       "      <td>PS2</td>\n",
       "      <td>Rockstar Games</td>\n",
       "      <td>Rockstar North</td>\n",
       "      <td>9.6</td>\n",
       "      <td>14.37</td>\n",
       "    </tr>\n",
       "    <tr>\n",
       "      <th>41</th>\n",
       "      <td>Shooter</td>\n",
       "      <td>M</td>\n",
       "      <td>X360</td>\n",
       "      <td>Activision</td>\n",
       "      <td>Infinity Ward</td>\n",
       "      <td>8.7</td>\n",
       "      <td>13.49</td>\n",
       "    </tr>\n",
       "    <tr>\n",
       "      <th>42</th>\n",
       "      <td>Shooter</td>\n",
       "      <td>M</td>\n",
       "      <td>X360</td>\n",
       "      <td>Activision</td>\n",
       "      <td>Treyarch</td>\n",
       "      <td>8.8</td>\n",
       "      <td>13.60</td>\n",
       "    </tr>\n",
       "  </tbody>\n",
       "</table>\n",
       "</div>"
      ],
      "text/plain": [
       "        Genre ESRB_Rating Platform       Publisher       Developer  \\\n",
       "Rank                                                                 \n",
       "20     Action           M      PS3  Rockstar Games  Rockstar North   \n",
       "21     Action           M      PS4  Rockstar Games  Rockstar North   \n",
       "31     Action           M      PS2  Rockstar Games  Rockstar North   \n",
       "41    Shooter           M     X360      Activision   Infinity Ward   \n",
       "42    Shooter           M     X360      Activision        Treyarch   \n",
       "\n",
       "      Critic_Score  Global_Sales  \n",
       "Rank                              \n",
       "20             9.4         17.21  \n",
       "21             9.7         16.37  \n",
       "31             9.6         14.37  \n",
       "41             8.7         13.49  \n",
       "42             8.8         13.60  "
      ]
     },
     "execution_count": 19,
     "metadata": {},
     "output_type": "execute_result"
    }
   ],
   "source": [
    "vg_sales.head()"
   ]
  },
  {
   "cell_type": "code",
   "execution_count": 17,
   "id": "189bc978-a09f-4cb4-abfd-6343e2bc0eea",
   "metadata": {},
   "outputs": [],
   "source": [
    "to_drop = ['NA_Sales', 'PAL_Sales', 'JP_Sales', 'Other_Sales', 'basename']"
   ]
  },
  {
   "cell_type": "code",
   "execution_count": 18,
   "id": "9bda6e9f-8ee7-46ed-9416-34c587dde387",
   "metadata": {},
   "outputs": [],
   "source": [
    "vg_sales.drop(to_drop, inplace=True, axis=1)"
   ]
  },
  {
   "cell_type": "code",
   "execution_count": 20,
   "id": "97dfe49d-8d06-49b1-a0c0-c73d9ca3e32d",
   "metadata": {},
   "outputs": [],
   "source": [
    "X = vg_sales.copy()\n",
    "y = X.pop('Global_Sales')"
   ]
  },
  {
   "cell_type": "markdown",
   "id": "ff0f60fe-ece4-47bd-9b64-f582bf6df8b8",
   "metadata": {},
   "source": [
    "### Preprocessing etc"
   ]
  },
  {
   "cell_type": "code",
   "execution_count": 21,
   "id": "0fc61c8c-5b34-45b6-b287-202b13787771",
   "metadata": {},
   "outputs": [],
   "source": [
    "preprocessor = make_column_transformer(\n",
    "    (StandardScaler(),\n",
    "     make_column_selector(dtype_include=np.number)),\n",
    "    (OneHotEncoder(sparse=False),\n",
    "     make_column_selector(dtype_include=object)),\n",
    ")"
   ]
  },
  {
   "cell_type": "code",
   "execution_count": 23,
   "id": "c3b8520f-a739-43ea-a4cc-498e15bc8bad",
   "metadata": {},
   "outputs": [
    {
     "name": "stderr",
     "output_type": "stream",
     "text": [
      "C:\\Users\\User\\Desktop\\programowanie_web_etc\\python_projects\\ml_projects\\ml_basic\\venv\\lib\\site-packages\\sklearn\\preprocessing\\_encoders.py:975: FutureWarning: `sparse` was renamed to `sparse_output` in version 1.2 and will be removed in 1.4. `sparse_output` is ignored unless you leave `sparse` to its default value.\n",
      "  warnings.warn(\n"
     ]
    }
   ],
   "source": [
    "X = preprocessor.fit_transform(X)\n",
    "y = np.log(y) # log transform target instead of standardizing"
   ]
  },
  {
   "cell_type": "code",
   "execution_count": 24,
   "id": "9c9a4015-6e5d-4884-84ba-9a63ae036234",
   "metadata": {},
   "outputs": [
    {
     "name": "stdout",
     "output_type": "stream",
     "text": [
      "Input shape: [1254]\n"
     ]
    }
   ],
   "source": [
    "input_shape = [X.shape[1]]\n",
    "print(\"Input shape: {}\".format(input_shape))"
   ]
  },
  {
   "cell_type": "code",
   "execution_count": 25,
   "id": "b960fcb5-b1af-4ee9-9a06-1dac529c9db9",
   "metadata": {},
   "outputs": [
    {
     "data": {
      "text/html": [
       "<div>\n",
       "<style scoped>\n",
       "    .dataframe tbody tr th:only-of-type {\n",
       "        vertical-align: middle;\n",
       "    }\n",
       "\n",
       "    .dataframe tbody tr th {\n",
       "        vertical-align: top;\n",
       "    }\n",
       "\n",
       "    .dataframe thead th {\n",
       "        text-align: right;\n",
       "    }\n",
       "</style>\n",
       "<table border=\"1\" class=\"dataframe\">\n",
       "  <thead>\n",
       "    <tr style=\"text-align: right;\">\n",
       "      <th></th>\n",
       "      <th>0</th>\n",
       "      <th>1</th>\n",
       "      <th>2</th>\n",
       "      <th>3</th>\n",
       "      <th>4</th>\n",
       "      <th>5</th>\n",
       "      <th>6</th>\n",
       "      <th>7</th>\n",
       "      <th>8</th>\n",
       "      <th>9</th>\n",
       "      <th>...</th>\n",
       "      <th>1244</th>\n",
       "      <th>1245</th>\n",
       "      <th>1246</th>\n",
       "      <th>1247</th>\n",
       "      <th>1248</th>\n",
       "      <th>1249</th>\n",
       "      <th>1250</th>\n",
       "      <th>1251</th>\n",
       "      <th>1252</th>\n",
       "      <th>1253</th>\n",
       "    </tr>\n",
       "  </thead>\n",
       "  <tbody>\n",
       "    <tr>\n",
       "      <th>0</th>\n",
       "      <td>1.583679</td>\n",
       "      <td>1.0</td>\n",
       "      <td>0.0</td>\n",
       "      <td>0.0</td>\n",
       "      <td>0.0</td>\n",
       "      <td>0.0</td>\n",
       "      <td>0.0</td>\n",
       "      <td>0.0</td>\n",
       "      <td>0.0</td>\n",
       "      <td>0.0</td>\n",
       "      <td>...</td>\n",
       "      <td>0.0</td>\n",
       "      <td>0.0</td>\n",
       "      <td>0.0</td>\n",
       "      <td>0.0</td>\n",
       "      <td>0.0</td>\n",
       "      <td>0.0</td>\n",
       "      <td>0.0</td>\n",
       "      <td>0.0</td>\n",
       "      <td>0.0</td>\n",
       "      <td>0.0</td>\n",
       "    </tr>\n",
       "    <tr>\n",
       "      <th>1</th>\n",
       "      <td>1.795328</td>\n",
       "      <td>1.0</td>\n",
       "      <td>0.0</td>\n",
       "      <td>0.0</td>\n",
       "      <td>0.0</td>\n",
       "      <td>0.0</td>\n",
       "      <td>0.0</td>\n",
       "      <td>0.0</td>\n",
       "      <td>0.0</td>\n",
       "      <td>0.0</td>\n",
       "      <td>...</td>\n",
       "      <td>0.0</td>\n",
       "      <td>0.0</td>\n",
       "      <td>0.0</td>\n",
       "      <td>0.0</td>\n",
       "      <td>0.0</td>\n",
       "      <td>0.0</td>\n",
       "      <td>0.0</td>\n",
       "      <td>0.0</td>\n",
       "      <td>0.0</td>\n",
       "      <td>0.0</td>\n",
       "    </tr>\n",
       "    <tr>\n",
       "      <th>2</th>\n",
       "      <td>1.724778</td>\n",
       "      <td>1.0</td>\n",
       "      <td>0.0</td>\n",
       "      <td>0.0</td>\n",
       "      <td>0.0</td>\n",
       "      <td>0.0</td>\n",
       "      <td>0.0</td>\n",
       "      <td>0.0</td>\n",
       "      <td>0.0</td>\n",
       "      <td>0.0</td>\n",
       "      <td>...</td>\n",
       "      <td>0.0</td>\n",
       "      <td>0.0</td>\n",
       "      <td>0.0</td>\n",
       "      <td>0.0</td>\n",
       "      <td>0.0</td>\n",
       "      <td>0.0</td>\n",
       "      <td>0.0</td>\n",
       "      <td>0.0</td>\n",
       "      <td>0.0</td>\n",
       "      <td>0.0</td>\n",
       "    </tr>\n",
       "    <tr>\n",
       "      <th>3</th>\n",
       "      <td>1.089833</td>\n",
       "      <td>0.0</td>\n",
       "      <td>0.0</td>\n",
       "      <td>0.0</td>\n",
       "      <td>0.0</td>\n",
       "      <td>0.0</td>\n",
       "      <td>0.0</td>\n",
       "      <td>0.0</td>\n",
       "      <td>0.0</td>\n",
       "      <td>0.0</td>\n",
       "      <td>...</td>\n",
       "      <td>0.0</td>\n",
       "      <td>0.0</td>\n",
       "      <td>0.0</td>\n",
       "      <td>0.0</td>\n",
       "      <td>0.0</td>\n",
       "      <td>0.0</td>\n",
       "      <td>0.0</td>\n",
       "      <td>0.0</td>\n",
       "      <td>0.0</td>\n",
       "      <td>0.0</td>\n",
       "    </tr>\n",
       "    <tr>\n",
       "      <th>4</th>\n",
       "      <td>1.160383</td>\n",
       "      <td>0.0</td>\n",
       "      <td>0.0</td>\n",
       "      <td>0.0</td>\n",
       "      <td>0.0</td>\n",
       "      <td>0.0</td>\n",
       "      <td>0.0</td>\n",
       "      <td>0.0</td>\n",
       "      <td>0.0</td>\n",
       "      <td>0.0</td>\n",
       "      <td>...</td>\n",
       "      <td>0.0</td>\n",
       "      <td>0.0</td>\n",
       "      <td>0.0</td>\n",
       "      <td>0.0</td>\n",
       "      <td>0.0</td>\n",
       "      <td>0.0</td>\n",
       "      <td>0.0</td>\n",
       "      <td>0.0</td>\n",
       "      <td>0.0</td>\n",
       "      <td>0.0</td>\n",
       "    </tr>\n",
       "  </tbody>\n",
       "</table>\n",
       "<p>5 rows × 1254 columns</p>\n",
       "</div>"
      ],
      "text/plain": [
       "       0     1     2     3     4     5     6     7     8     9     ...  1244  \\\n",
       "0  1.583679   1.0   0.0   0.0   0.0   0.0   0.0   0.0   0.0   0.0  ...   0.0   \n",
       "1  1.795328   1.0   0.0   0.0   0.0   0.0   0.0   0.0   0.0   0.0  ...   0.0   \n",
       "2  1.724778   1.0   0.0   0.0   0.0   0.0   0.0   0.0   0.0   0.0  ...   0.0   \n",
       "3  1.089833   0.0   0.0   0.0   0.0   0.0   0.0   0.0   0.0   0.0  ...   0.0   \n",
       "4  1.160383   0.0   0.0   0.0   0.0   0.0   0.0   0.0   0.0   0.0  ...   0.0   \n",
       "\n",
       "   1245  1246  1247  1248  1249  1250  1251  1252  1253  \n",
       "0   0.0   0.0   0.0   0.0   0.0   0.0   0.0   0.0   0.0  \n",
       "1   0.0   0.0   0.0   0.0   0.0   0.0   0.0   0.0   0.0  \n",
       "2   0.0   0.0   0.0   0.0   0.0   0.0   0.0   0.0   0.0  \n",
       "3   0.0   0.0   0.0   0.0   0.0   0.0   0.0   0.0   0.0  \n",
       "4   0.0   0.0   0.0   0.0   0.0   0.0   0.0   0.0   0.0  \n",
       "\n",
       "[5 rows x 1254 columns]"
      ]
     },
     "execution_count": 25,
     "metadata": {},
     "output_type": "execute_result"
    }
   ],
   "source": [
    "pd.DataFrame(X[:5,:]).head()"
   ]
  },
  {
   "cell_type": "markdown",
   "id": "d9c3b90e-eb98-4573-9275-e982fbae702e",
   "metadata": {},
   "source": [
    "### Train-test-split"
   ]
  },
  {
   "cell_type": "code",
   "execution_count": 26,
   "id": "8d792fa1-f199-44ec-8c30-8eb39e63ee4a",
   "metadata": {},
   "outputs": [],
   "source": [
    "X_train, X_test, y_train, y_test = train_test_split(\n",
    "    X, y, test_size=0.25, random_state=42)"
   ]
  },
  {
   "cell_type": "markdown",
   "id": "8702c4b0-e911-4b46-b80e-27a463a5e444",
   "metadata": {},
   "source": [
    "#### Model"
   ]
  },
  {
   "cell_type": "code",
   "execution_count": 33,
   "id": "db811ab7-7b18-4886-94fb-e0209e5d9605",
   "metadata": {},
   "outputs": [],
   "source": [
    "model = keras.Sequential([\n",
    "    layers.Dense(512, activation='relu', input_shape=input_shape),\n",
    "    layers.Dense(512, activation='relu'),\n",
    "    layers.Dense(512, activation='relu'),\n",
    "    layers.Dense(1),\n",
    "])"
   ]
  },
  {
   "cell_type": "code",
   "execution_count": 39,
   "id": "7195f740-87b1-4fb1-a6bd-a3a1cc685495",
   "metadata": {},
   "outputs": [],
   "source": [
    "opt = keras.optimizers.Adam(learning_rate=0.05)\n",
    "model.compile(\n",
    "    optimizer=opt,\n",
    "    loss='mae',\n",
    ")"
   ]
  },
  {
   "cell_type": "code",
   "execution_count": 40,
   "id": "e8135a56-d37c-4f7b-9ff1-f99e643b44ba",
   "metadata": {},
   "outputs": [
    {
     "name": "stdout",
     "output_type": "stream",
     "text": [
      "Epoch 1/20\n",
      "12/12 [==============================] - 1s 17ms/step - loss: 10.4003 - val_loss: 1.0363\n",
      "Epoch 2/20\n",
      "12/12 [==============================] - 0s 11ms/step - loss: 0.9371 - val_loss: 0.8841\n",
      "Epoch 3/20\n",
      "12/12 [==============================] - 0s 11ms/step - loss: 0.7093 - val_loss: 0.8397\n",
      "Epoch 4/20\n",
      "12/12 [==============================] - 0s 11ms/step - loss: 0.6177 - val_loss: 0.8148\n",
      "Epoch 5/20\n",
      "12/12 [==============================] - 0s 11ms/step - loss: 0.5585 - val_loss: 0.7967\n",
      "Epoch 6/20\n",
      "12/12 [==============================] - 0s 10ms/step - loss: 0.4986 - val_loss: 0.8017\n",
      "Epoch 7/20\n",
      "12/12 [==============================] - 0s 11ms/step - loss: 0.5011 - val_loss: 0.8104\n",
      "Epoch 8/20\n",
      "12/12 [==============================] - 0s 11ms/step - loss: 0.4643 - val_loss: 0.7965\n",
      "Epoch 9/20\n",
      "12/12 [==============================] - 0s 10ms/step - loss: 0.4393 - val_loss: 0.7964\n",
      "Epoch 10/20\n",
      "12/12 [==============================] - 0s 11ms/step - loss: 0.4283 - val_loss: 0.7955\n",
      "Epoch 11/20\n",
      "12/12 [==============================] - 0s 11ms/step - loss: 0.4078 - val_loss: 0.7853\n",
      "Epoch 12/20\n",
      "12/12 [==============================] - 0s 11ms/step - loss: 0.3785 - val_loss: 0.7938\n",
      "Epoch 13/20\n",
      "12/12 [==============================] - 0s 10ms/step - loss: 0.3729 - val_loss: 0.7948\n",
      "Epoch 14/20\n",
      "12/12 [==============================] - 0s 10ms/step - loss: 0.3850 - val_loss: 0.7919\n",
      "Epoch 15/20\n",
      "12/12 [==============================] - 0s 10ms/step - loss: 0.3699 - val_loss: 0.7988\n",
      "Epoch 16/20\n",
      "12/12 [==============================] - 0s 11ms/step - loss: 0.3458 - val_loss: 0.8042\n",
      "Epoch 17/20\n",
      "12/12 [==============================] - 0s 12ms/step - loss: 0.3493 - val_loss: 0.8086\n",
      "Epoch 18/20\n",
      "12/12 [==============================] - 0s 10ms/step - loss: 0.3380 - val_loss: 0.8076\n",
      "Epoch 19/20\n",
      "12/12 [==============================] - 0s 11ms/step - loss: 0.3205 - val_loss: 0.8087\n",
      "Epoch 20/20\n",
      "12/12 [==============================] - 0s 10ms/step - loss: 0.3208 - val_loss: 0.7942\n"
     ]
    }
   ],
   "source": [
    "history = model.fit(\n",
    "    X_train, y_train,\n",
    "    validation_data = (X_test, y_test),\n",
    "    batch_size=256,\n",
    "    epochs=20,\n",
    ")"
   ]
  },
  {
   "cell_type": "code",
   "execution_count": 41,
   "id": "b1808d26-c557-46e1-9ded-58ec91785fad",
   "metadata": {},
   "outputs": [
    {
     "data": {
      "text/plain": [
       "<Axes: >"
      ]
     },
     "execution_count": 41,
     "metadata": {},
     "output_type": "execute_result"
    },
    {
     "data": {
      "image/png": "[encoded data removed]",
      "text/plain": [
       "<Figure size 640x480 with 1 Axes>"
      ]
     },
     "metadata": {},
     "output_type": "display_data"
    }
   ],
   "source": [
    "history_df = pd.DataFrame(history.history)\n",
    "history_df['loss'].plot()"
   ]
  }
 ],
 "metadata": {
  "kernelspec": {
   "display_name": "ml_venv",
   "language": "python",
   "name": "ml_venv"
  },
  "language_info": {
   "codemirror_mode": {
    "name": "ipython",
    "version": 3
   },
   "file_extension": ".py",
   "mimetype": "text/x-python",
   "name": "python",
   "nbconvert_exporter": "python",
   "pygments_lexer": "ipython3",
   "version": "3.10.9"
  }
 },
 "nbformat": 4,
 "nbformat_minor": 5
}
